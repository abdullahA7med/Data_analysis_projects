{
 "cells": [
  {
   "cell_type": "markdown",
   "id": "83b840f6",
   "metadata": {},
   "source": [
    "# Exploratory data analysis Project\n",
    "\n",
    "## book sales data analysis <img src='book.png' width=85>\n",
    "\n",
    "- Link -> (https://www.kaggle.com/datasets/thedevastator/books-sales-and-ratings)"
   ]
  },
  {
   "cell_type": "markdown",
   "id": "9e146d68",
   "metadata": {},
   "source": [
    "### 1] importing libs"
   ]
  },
  {
   "cell_type": "code",
   "execution_count": 1,
   "id": "c1e575f9",
   "metadata": {},
   "outputs": [],
   "source": [
    "\n",
    "import pandas as pd \n",
    "import numpy as np \n",
    "import matplotlib as plt\n",
    "import matplotlib.pyplot as plt\n",
    "import seaborn as sns\n",
    "sns.set_style('darkgrid')\n",
    "import plotly.express as px\n",
    "import warnings\n",
    "warnings.filterwarnings('ignore')"
   ]
  },
  {
   "cell_type": "markdown",
   "id": "b1e3615d",
   "metadata": {},
   "source": [
    "### 2] importing data"
   ]
  },
  {
   "cell_type": "code",
   "execution_count": 2,
   "id": "1e04754c",
   "metadata": {},
   "outputs": [],
   "source": [
    "df = pd.read_csv('Books_Data_Clean.csv')"
   ]
  },
  {
   "cell_type": "markdown",
   "id": "daa24e61",
   "metadata": {},
   "source": [
    "### 3] inspecting data"
   ]
  },
  {
   "cell_type": "code",
   "execution_count": 3,
   "id": "70bb48a7",
   "metadata": {},
   "outputs": [
    {
     "data": {
      "text/html": [
       "<div>\n",
       "<style scoped>\n",
       "    .dataframe tbody tr th:only-of-type {\n",
       "        vertical-align: middle;\n",
       "    }\n",
       "\n",
       "    .dataframe tbody tr th {\n",
       "        vertical-align: top;\n",
       "    }\n",
       "\n",
       "    .dataframe thead th {\n",
       "        text-align: right;\n",
       "    }\n",
       "</style>\n",
       "<table border=\"1\" class=\"dataframe\">\n",
       "  <thead>\n",
       "    <tr style=\"text-align: right;\">\n",
       "      <th></th>\n",
       "      <th>index</th>\n",
       "      <th>Publishing Year</th>\n",
       "      <th>Book Name</th>\n",
       "      <th>Author</th>\n",
       "      <th>language_code</th>\n",
       "      <th>Author_Rating</th>\n",
       "      <th>Book_average_rating</th>\n",
       "      <th>Book_ratings_count</th>\n",
       "      <th>genre</th>\n",
       "      <th>gross sales</th>\n",
       "      <th>publisher revenue</th>\n",
       "      <th>sale price</th>\n",
       "      <th>sales rank</th>\n",
       "      <th>Publisher</th>\n",
       "      <th>units sold</th>\n",
       "    </tr>\n",
       "  </thead>\n",
       "  <tbody>\n",
       "    <tr>\n",
       "      <th>0</th>\n",
       "      <td>0</td>\n",
       "      <td>1975.0</td>\n",
       "      <td>Beowulf</td>\n",
       "      <td>Unknown, Seamus Heaney</td>\n",
       "      <td>en-US</td>\n",
       "      <td>Novice</td>\n",
       "      <td>3.42</td>\n",
       "      <td>155903</td>\n",
       "      <td>genre fiction</td>\n",
       "      <td>34160.0</td>\n",
       "      <td>20496.0</td>\n",
       "      <td>4.88</td>\n",
       "      <td>1</td>\n",
       "      <td>HarperCollins Publishers</td>\n",
       "      <td>7000</td>\n",
       "    </tr>\n",
       "    <tr>\n",
       "      <th>1</th>\n",
       "      <td>1</td>\n",
       "      <td>1987.0</td>\n",
       "      <td>Batman: Year One</td>\n",
       "      <td>Frank Miller, David Mazzucchelli, Richmond Lew...</td>\n",
       "      <td>eng</td>\n",
       "      <td>Intermediate</td>\n",
       "      <td>4.23</td>\n",
       "      <td>145267</td>\n",
       "      <td>genre fiction</td>\n",
       "      <td>12437.5</td>\n",
       "      <td>7462.5</td>\n",
       "      <td>1.99</td>\n",
       "      <td>2</td>\n",
       "      <td>HarperCollins Publishers</td>\n",
       "      <td>6250</td>\n",
       "    </tr>\n",
       "    <tr>\n",
       "      <th>2</th>\n",
       "      <td>2</td>\n",
       "      <td>2015.0</td>\n",
       "      <td>Go Set a Watchman</td>\n",
       "      <td>Harper Lee</td>\n",
       "      <td>eng</td>\n",
       "      <td>Novice</td>\n",
       "      <td>3.31</td>\n",
       "      <td>138669</td>\n",
       "      <td>genre fiction</td>\n",
       "      <td>47795.0</td>\n",
       "      <td>28677.0</td>\n",
       "      <td>8.69</td>\n",
       "      <td>3</td>\n",
       "      <td>Amazon Digital Services,  Inc.</td>\n",
       "      <td>5500</td>\n",
       "    </tr>\n",
       "    <tr>\n",
       "      <th>3</th>\n",
       "      <td>3</td>\n",
       "      <td>2008.0</td>\n",
       "      <td>When You Are Engulfed in Flames</td>\n",
       "      <td>David Sedaris</td>\n",
       "      <td>en-US</td>\n",
       "      <td>Intermediate</td>\n",
       "      <td>4.04</td>\n",
       "      <td>150898</td>\n",
       "      <td>fiction</td>\n",
       "      <td>41250.0</td>\n",
       "      <td>24750.0</td>\n",
       "      <td>7.50</td>\n",
       "      <td>3</td>\n",
       "      <td>Hachette Book Group</td>\n",
       "      <td>5500</td>\n",
       "    </tr>\n",
       "    <tr>\n",
       "      <th>4</th>\n",
       "      <td>4</td>\n",
       "      <td>2011.0</td>\n",
       "      <td>Daughter of Smoke &amp; Bone</td>\n",
       "      <td>Laini Taylor</td>\n",
       "      <td>eng</td>\n",
       "      <td>Intermediate</td>\n",
       "      <td>4.04</td>\n",
       "      <td>198283</td>\n",
       "      <td>genre fiction</td>\n",
       "      <td>37952.5</td>\n",
       "      <td>22771.5</td>\n",
       "      <td>7.99</td>\n",
       "      <td>4</td>\n",
       "      <td>Penguin Group (USA) LLC</td>\n",
       "      <td>4750</td>\n",
       "    </tr>\n",
       "  </tbody>\n",
       "</table>\n",
       "</div>"
      ],
      "text/plain": [
       "   index  Publishing Year                        Book Name  \\\n",
       "0      0           1975.0                          Beowulf   \n",
       "1      1           1987.0                 Batman: Year One   \n",
       "2      2           2015.0                Go Set a Watchman   \n",
       "3      3           2008.0  When You Are Engulfed in Flames   \n",
       "4      4           2011.0         Daughter of Smoke & Bone   \n",
       "\n",
       "                                              Author language_code  \\\n",
       "0                             Unknown, Seamus Heaney         en-US   \n",
       "1  Frank Miller, David Mazzucchelli, Richmond Lew...           eng   \n",
       "2                                         Harper Lee           eng   \n",
       "3                                      David Sedaris         en-US   \n",
       "4                                       Laini Taylor           eng   \n",
       "\n",
       "  Author_Rating  Book_average_rating  Book_ratings_count          genre  \\\n",
       "0        Novice                 3.42              155903  genre fiction   \n",
       "1  Intermediate                 4.23              145267  genre fiction   \n",
       "2        Novice                 3.31              138669  genre fiction   \n",
       "3  Intermediate                 4.04              150898        fiction   \n",
       "4  Intermediate                 4.04              198283  genre fiction   \n",
       "\n",
       "   gross sales  publisher revenue  sale price  sales rank  \\\n",
       "0      34160.0            20496.0        4.88           1   \n",
       "1      12437.5             7462.5        1.99           2   \n",
       "2      47795.0            28677.0        8.69           3   \n",
       "3      41250.0            24750.0        7.50           3   \n",
       "4      37952.5            22771.5        7.99           4   \n",
       "\n",
       "                       Publisher   units sold  \n",
       "0        HarperCollins Publishers        7000  \n",
       "1        HarperCollins Publishers        6250  \n",
       "2  Amazon Digital Services,  Inc.        5500  \n",
       "3             Hachette Book Group        5500  \n",
       "4         Penguin Group (USA) LLC        4750  "
      ]
     },
     "execution_count": 3,
     "metadata": {},
     "output_type": "execute_result"
    }
   ],
   "source": [
    "df.head()"
   ]
  },
  {
   "cell_type": "code",
   "execution_count": 4,
   "id": "9098e391",
   "metadata": {},
   "outputs": [
    {
     "name": "stdout",
     "output_type": "stream",
     "text": [
      "<class 'pandas.core.frame.DataFrame'>\n",
      "RangeIndex: 1070 entries, 0 to 1069\n",
      "Data columns (total 15 columns):\n",
      " #   Column               Non-Null Count  Dtype  \n",
      "---  ------               --------------  -----  \n",
      " 0   index                1070 non-null   int64  \n",
      " 1   Publishing Year      1069 non-null   float64\n",
      " 2   Book Name            1047 non-null   object \n",
      " 3   Author               1070 non-null   object \n",
      " 4   language_code        1017 non-null   object \n",
      " 5   Author_Rating        1070 non-null   object \n",
      " 6   Book_average_rating  1070 non-null   float64\n",
      " 7   Book_ratings_count   1070 non-null   int64  \n",
      " 8   genre                1070 non-null   object \n",
      " 9   gross sales          1070 non-null   float64\n",
      " 10  publisher revenue    1070 non-null   float64\n",
      " 11  sale price           1070 non-null   float64\n",
      " 12  sales rank           1070 non-null   int64  \n",
      " 13  Publisher            1070 non-null   object \n",
      " 14  units sold           1070 non-null   int64  \n",
      "dtypes: float64(5), int64(4), object(6)\n",
      "memory usage: 125.5+ KB\n"
     ]
    }
   ],
   "source": [
    "df.info()"
   ]
  },
  {
   "cell_type": "markdown",
   "id": "47b44261",
   "metadata": {},
   "source": [
    "**Get statistical summary**"
   ]
  },
  {
   "cell_type": "code",
   "execution_count": 5,
   "id": "c172b5f7",
   "metadata": {},
   "outputs": [
    {
     "data": {
      "text/html": [
       "<div>\n",
       "<style scoped>\n",
       "    .dataframe tbody tr th:only-of-type {\n",
       "        vertical-align: middle;\n",
       "    }\n",
       "\n",
       "    .dataframe tbody tr th {\n",
       "        vertical-align: top;\n",
       "    }\n",
       "\n",
       "    .dataframe thead th {\n",
       "        text-align: right;\n",
       "    }\n",
       "</style>\n",
       "<table border=\"1\" class=\"dataframe\">\n",
       "  <thead>\n",
       "    <tr style=\"text-align: right;\">\n",
       "      <th></th>\n",
       "      <th>index</th>\n",
       "      <th>Publishing Year</th>\n",
       "      <th>Book_average_rating</th>\n",
       "      <th>Book_ratings_count</th>\n",
       "      <th>gross sales</th>\n",
       "      <th>publisher revenue</th>\n",
       "      <th>sale price</th>\n",
       "      <th>sales rank</th>\n",
       "      <th>units sold</th>\n",
       "    </tr>\n",
       "  </thead>\n",
       "  <tbody>\n",
       "    <tr>\n",
       "      <th>count</th>\n",
       "      <td>1070.000000</td>\n",
       "      <td>1069.000000</td>\n",
       "      <td>1070.000000</td>\n",
       "      <td>1070.000000</td>\n",
       "      <td>1070.000000</td>\n",
       "      <td>1070.000000</td>\n",
       "      <td>1070.000000</td>\n",
       "      <td>1070.000000</td>\n",
       "      <td>1070.000000</td>\n",
       "    </tr>\n",
       "    <tr>\n",
       "      <th>mean</th>\n",
       "      <td>534.500000</td>\n",
       "      <td>1971.377923</td>\n",
       "      <td>4.007000</td>\n",
       "      <td>94909.913084</td>\n",
       "      <td>1856.622944</td>\n",
       "      <td>843.281030</td>\n",
       "      <td>4.869561</td>\n",
       "      <td>611.652336</td>\n",
       "      <td>9676.980374</td>\n",
       "    </tr>\n",
       "    <tr>\n",
       "      <th>std</th>\n",
       "      <td>309.026698</td>\n",
       "      <td>185.080257</td>\n",
       "      <td>0.247244</td>\n",
       "      <td>31513.242518</td>\n",
       "      <td>3936.924240</td>\n",
       "      <td>2257.596743</td>\n",
       "      <td>3.559919</td>\n",
       "      <td>369.849830</td>\n",
       "      <td>15370.571306</td>\n",
       "    </tr>\n",
       "    <tr>\n",
       "      <th>min</th>\n",
       "      <td>0.000000</td>\n",
       "      <td>-560.000000</td>\n",
       "      <td>2.970000</td>\n",
       "      <td>27308.000000</td>\n",
       "      <td>104.940000</td>\n",
       "      <td>0.000000</td>\n",
       "      <td>0.990000</td>\n",
       "      <td>1.000000</td>\n",
       "      <td>106.000000</td>\n",
       "    </tr>\n",
       "    <tr>\n",
       "      <th>25%</th>\n",
       "      <td>267.250000</td>\n",
       "      <td>1985.000000</td>\n",
       "      <td>3.850000</td>\n",
       "      <td>70398.000000</td>\n",
       "      <td>372.465000</td>\n",
       "      <td>0.000000</td>\n",
       "      <td>1.990000</td>\n",
       "      <td>287.500000</td>\n",
       "      <td>551.250000</td>\n",
       "    </tr>\n",
       "    <tr>\n",
       "      <th>50%</th>\n",
       "      <td>534.500000</td>\n",
       "      <td>2003.000000</td>\n",
       "      <td>4.015000</td>\n",
       "      <td>89309.000000</td>\n",
       "      <td>809.745000</td>\n",
       "      <td>273.078000</td>\n",
       "      <td>3.990000</td>\n",
       "      <td>595.500000</td>\n",
       "      <td>3924.000000</td>\n",
       "    </tr>\n",
       "    <tr>\n",
       "      <th>75%</th>\n",
       "      <td>801.750000</td>\n",
       "      <td>2010.000000</td>\n",
       "      <td>4.170000</td>\n",
       "      <td>113906.500000</td>\n",
       "      <td>1487.957500</td>\n",
       "      <td>721.180500</td>\n",
       "      <td>6.990000</td>\n",
       "      <td>932.500000</td>\n",
       "      <td>5312.250000</td>\n",
       "    </tr>\n",
       "    <tr>\n",
       "      <th>max</th>\n",
       "      <td>1069.000000</td>\n",
       "      <td>2016.000000</td>\n",
       "      <td>4.770000</td>\n",
       "      <td>206792.000000</td>\n",
       "      <td>47795.000000</td>\n",
       "      <td>28677.000000</td>\n",
       "      <td>33.860000</td>\n",
       "      <td>1273.000000</td>\n",
       "      <td>61560.000000</td>\n",
       "    </tr>\n",
       "  </tbody>\n",
       "</table>\n",
       "</div>"
      ],
      "text/plain": [
       "             index  Publishing Year  Book_average_rating  Book_ratings_count  \\\n",
       "count  1070.000000      1069.000000          1070.000000         1070.000000   \n",
       "mean    534.500000      1971.377923             4.007000        94909.913084   \n",
       "std     309.026698       185.080257             0.247244        31513.242518   \n",
       "min       0.000000      -560.000000             2.970000        27308.000000   \n",
       "25%     267.250000      1985.000000             3.850000        70398.000000   \n",
       "50%     534.500000      2003.000000             4.015000        89309.000000   \n",
       "75%     801.750000      2010.000000             4.170000       113906.500000   \n",
       "max    1069.000000      2016.000000             4.770000       206792.000000   \n",
       "\n",
       "        gross sales  publisher revenue   sale price   sales rank    units sold  \n",
       "count   1070.000000        1070.000000  1070.000000  1070.000000   1070.000000  \n",
       "mean    1856.622944         843.281030     4.869561   611.652336   9676.980374  \n",
       "std     3936.924240        2257.596743     3.559919   369.849830  15370.571306  \n",
       "min      104.940000           0.000000     0.990000     1.000000    106.000000  \n",
       "25%      372.465000           0.000000     1.990000   287.500000    551.250000  \n",
       "50%      809.745000         273.078000     3.990000   595.500000   3924.000000  \n",
       "75%     1487.957500         721.180500     6.990000   932.500000   5312.250000  \n",
       "max    47795.000000       28677.000000    33.860000  1273.000000  61560.000000  "
      ]
     },
     "execution_count": 5,
     "metadata": {},
     "output_type": "execute_result"
    }
   ],
   "source": [
    "df.describe()"
   ]
  },
  {
   "cell_type": "markdown",
   "id": "2651ca8a",
   "metadata": {},
   "source": [
    "### 4 data preprocessing "
   ]
  },
  {
   "cell_type": "code",
   "execution_count": 6,
   "id": "23060921",
   "metadata": {},
   "outputs": [],
   "source": [
    "df.drop(columns='index',inplace=True)"
   ]
  },
  {
   "cell_type": "markdown",
   "id": "690ce399",
   "metadata": {},
   "source": [
    "if you look at  `Publishing Year` you find minus value, we fix that"
   ]
  },
  {
   "cell_type": "code",
   "execution_count": 7,
   "id": "c45d1359",
   "metadata": {},
   "outputs": [],
   "source": [
    "df=df.loc[df['Publishing Year'] >1900]"
   ]
  },
  {
   "cell_type": "markdown",
   "id": "fc1a8529",
   "metadata": {},
   "source": [
    "check if there are missing value"
   ]
  },
  {
   "cell_type": "code",
   "execution_count": 8,
   "id": "011bb4fe",
   "metadata": {},
   "outputs": [
    {
     "data": {
      "text/plain": [
       "Publishing Year         0\n",
       "Book Name              21\n",
       "Author                  0\n",
       "language_code          49\n",
       "Author_Rating           0\n",
       "Book_average_rating     0\n",
       "Book_ratings_count      0\n",
       "genre                   0\n",
       "gross sales             0\n",
       "publisher revenue       0\n",
       "sale price              0\n",
       "sales rank              0\n",
       "Publisher               0\n",
       "units sold              0\n",
       "dtype: int64"
      ]
     },
     "execution_count": 8,
     "metadata": {},
     "output_type": "execute_result"
    }
   ],
   "source": [
    "df.isnull().sum()"
   ]
  },
  {
   "cell_type": "code",
   "execution_count": 9,
   "id": "4df2758f",
   "metadata": {},
   "outputs": [],
   "source": [
    "# drop missing in Book Name.\n",
    "df.dropna(subset='Book Name', inplace=True)"
   ]
  },
  {
   "cell_type": "code",
   "execution_count": 10,
   "id": "0941a848",
   "metadata": {},
   "outputs": [],
   "source": [
    "\n",
    "df['language_code'].ffill(inplace=True)"
   ]
  },
  {
   "cell_type": "code",
   "execution_count": 11,
   "id": "69f12f1c",
   "metadata": {},
   "outputs": [
    {
     "data": {
      "text/html": [
       "<div>\n",
       "<style scoped>\n",
       "    .dataframe tbody tr th:only-of-type {\n",
       "        vertical-align: middle;\n",
       "    }\n",
       "\n",
       "    .dataframe tbody tr th {\n",
       "        vertical-align: top;\n",
       "    }\n",
       "\n",
       "    .dataframe thead th {\n",
       "        text-align: right;\n",
       "    }\n",
       "</style>\n",
       "<table border=\"1\" class=\"dataframe\">\n",
       "  <thead>\n",
       "    <tr style=\"text-align: right;\">\n",
       "      <th></th>\n",
       "      <th>Publishing Year</th>\n",
       "      <th>Book Name</th>\n",
       "      <th>Author</th>\n",
       "      <th>language_code</th>\n",
       "      <th>Author_Rating</th>\n",
       "      <th>Book_average_rating</th>\n",
       "      <th>Book_ratings_count</th>\n",
       "      <th>genre</th>\n",
       "      <th>gross sales</th>\n",
       "      <th>publisher revenue</th>\n",
       "      <th>sale price</th>\n",
       "      <th>sales rank</th>\n",
       "      <th>Publisher</th>\n",
       "      <th>units sold</th>\n",
       "    </tr>\n",
       "  </thead>\n",
       "  <tbody>\n",
       "    <tr>\n",
       "      <th>0</th>\n",
       "      <td>1975.0</td>\n",
       "      <td>Beowulf</td>\n",
       "      <td>Unknown, Seamus Heaney</td>\n",
       "      <td>en-US</td>\n",
       "      <td>Novice</td>\n",
       "      <td>3.42</td>\n",
       "      <td>155903</td>\n",
       "      <td>genre fiction</td>\n",
       "      <td>34160.0</td>\n",
       "      <td>20496.0</td>\n",
       "      <td>4.88</td>\n",
       "      <td>1</td>\n",
       "      <td>HarperCollins Publishers</td>\n",
       "      <td>7000</td>\n",
       "    </tr>\n",
       "    <tr>\n",
       "      <th>1</th>\n",
       "      <td>1987.0</td>\n",
       "      <td>Batman: Year One</td>\n",
       "      <td>Frank Miller, David Mazzucchelli, Richmond Lew...</td>\n",
       "      <td>eng</td>\n",
       "      <td>Intermediate</td>\n",
       "      <td>4.23</td>\n",
       "      <td>145267</td>\n",
       "      <td>genre fiction</td>\n",
       "      <td>12437.5</td>\n",
       "      <td>7462.5</td>\n",
       "      <td>1.99</td>\n",
       "      <td>2</td>\n",
       "      <td>HarperCollins Publishers</td>\n",
       "      <td>6250</td>\n",
       "    </tr>\n",
       "    <tr>\n",
       "      <th>2</th>\n",
       "      <td>2015.0</td>\n",
       "      <td>Go Set a Watchman</td>\n",
       "      <td>Harper Lee</td>\n",
       "      <td>eng</td>\n",
       "      <td>Novice</td>\n",
       "      <td>3.31</td>\n",
       "      <td>138669</td>\n",
       "      <td>genre fiction</td>\n",
       "      <td>47795.0</td>\n",
       "      <td>28677.0</td>\n",
       "      <td>8.69</td>\n",
       "      <td>3</td>\n",
       "      <td>Amazon Digital Services,  Inc.</td>\n",
       "      <td>5500</td>\n",
       "    </tr>\n",
       "    <tr>\n",
       "      <th>3</th>\n",
       "      <td>2008.0</td>\n",
       "      <td>When You Are Engulfed in Flames</td>\n",
       "      <td>David Sedaris</td>\n",
       "      <td>en-US</td>\n",
       "      <td>Intermediate</td>\n",
       "      <td>4.04</td>\n",
       "      <td>150898</td>\n",
       "      <td>fiction</td>\n",
       "      <td>41250.0</td>\n",
       "      <td>24750.0</td>\n",
       "      <td>7.50</td>\n",
       "      <td>3</td>\n",
       "      <td>Hachette Book Group</td>\n",
       "      <td>5500</td>\n",
       "    </tr>\n",
       "    <tr>\n",
       "      <th>4</th>\n",
       "      <td>2011.0</td>\n",
       "      <td>Daughter of Smoke &amp; Bone</td>\n",
       "      <td>Laini Taylor</td>\n",
       "      <td>eng</td>\n",
       "      <td>Intermediate</td>\n",
       "      <td>4.04</td>\n",
       "      <td>198283</td>\n",
       "      <td>genre fiction</td>\n",
       "      <td>37952.5</td>\n",
       "      <td>22771.5</td>\n",
       "      <td>7.99</td>\n",
       "      <td>4</td>\n",
       "      <td>Penguin Group (USA) LLC</td>\n",
       "      <td>4750</td>\n",
       "    </tr>\n",
       "  </tbody>\n",
       "</table>\n",
       "</div>"
      ],
      "text/plain": [
       "   Publishing Year                        Book Name  \\\n",
       "0           1975.0                          Beowulf   \n",
       "1           1987.0                 Batman: Year One   \n",
       "2           2015.0                Go Set a Watchman   \n",
       "3           2008.0  When You Are Engulfed in Flames   \n",
       "4           2011.0         Daughter of Smoke & Bone   \n",
       "\n",
       "                                              Author language_code  \\\n",
       "0                             Unknown, Seamus Heaney         en-US   \n",
       "1  Frank Miller, David Mazzucchelli, Richmond Lew...           eng   \n",
       "2                                         Harper Lee           eng   \n",
       "3                                      David Sedaris         en-US   \n",
       "4                                       Laini Taylor           eng   \n",
       "\n",
       "  Author_Rating  Book_average_rating  Book_ratings_count          genre  \\\n",
       "0        Novice                 3.42              155903  genre fiction   \n",
       "1  Intermediate                 4.23              145267  genre fiction   \n",
       "2        Novice                 3.31              138669  genre fiction   \n",
       "3  Intermediate                 4.04              150898        fiction   \n",
       "4  Intermediate                 4.04              198283  genre fiction   \n",
       "\n",
       "   gross sales  publisher revenue  sale price  sales rank  \\\n",
       "0      34160.0            20496.0        4.88           1   \n",
       "1      12437.5             7462.5        1.99           2   \n",
       "2      47795.0            28677.0        8.69           3   \n",
       "3      41250.0            24750.0        7.50           3   \n",
       "4      37952.5            22771.5        7.99           4   \n",
       "\n",
       "                       Publisher   units sold  \n",
       "0        HarperCollins Publishers        7000  \n",
       "1        HarperCollins Publishers        6250  \n",
       "2  Amazon Digital Services,  Inc.        5500  \n",
       "3             Hachette Book Group        5500  \n",
       "4         Penguin Group (USA) LLC        4750  "
      ]
     },
     "execution_count": 11,
     "metadata": {},
     "output_type": "execute_result"
    }
   ],
   "source": [
    "df.head()"
   ]
  },
  {
   "cell_type": "markdown",
   "id": "ed66a44a",
   "metadata": {},
   "source": [
    "----------------------------------------\n",
    "\n",
    "\n",
    "\n",
    "### 5] Start EDA"
   ]
  },
  {
   "cell_type": "code",
   "execution_count": 12,
   "id": "b971f7f5",
   "metadata": {},
   "outputs": [
    {
     "data": {
      "text/html": [
       "<div>\n",
       "<style scoped>\n",
       "    .dataframe tbody tr th:only-of-type {\n",
       "        vertical-align: middle;\n",
       "    }\n",
       "\n",
       "    .dataframe tbody tr th {\n",
       "        vertical-align: top;\n",
       "    }\n",
       "\n",
       "    .dataframe thead th {\n",
       "        text-align: right;\n",
       "    }\n",
       "</style>\n",
       "<table border=\"1\" class=\"dataframe\">\n",
       "  <thead>\n",
       "    <tr style=\"text-align: right;\">\n",
       "      <th></th>\n",
       "      <th>Publishing Year</th>\n",
       "      <th>Book Name</th>\n",
       "      <th>Author</th>\n",
       "      <th>language_code</th>\n",
       "      <th>Author_Rating</th>\n",
       "      <th>Book_average_rating</th>\n",
       "      <th>Book_ratings_count</th>\n",
       "      <th>genre</th>\n",
       "      <th>gross sales</th>\n",
       "      <th>publisher revenue</th>\n",
       "      <th>sale price</th>\n",
       "      <th>sales rank</th>\n",
       "      <th>Publisher</th>\n",
       "      <th>units sold</th>\n",
       "    </tr>\n",
       "  </thead>\n",
       "  <tbody>\n",
       "    <tr>\n",
       "      <th>0</th>\n",
       "      <td>1975.0</td>\n",
       "      <td>Beowulf</td>\n",
       "      <td>Unknown, Seamus Heaney</td>\n",
       "      <td>en-US</td>\n",
       "      <td>Novice</td>\n",
       "      <td>3.42</td>\n",
       "      <td>155903</td>\n",
       "      <td>genre fiction</td>\n",
       "      <td>34160.0</td>\n",
       "      <td>20496.0</td>\n",
       "      <td>4.88</td>\n",
       "      <td>1</td>\n",
       "      <td>HarperCollins Publishers</td>\n",
       "      <td>7000</td>\n",
       "    </tr>\n",
       "    <tr>\n",
       "      <th>1</th>\n",
       "      <td>1987.0</td>\n",
       "      <td>Batman: Year One</td>\n",
       "      <td>Frank Miller, David Mazzucchelli, Richmond Lew...</td>\n",
       "      <td>eng</td>\n",
       "      <td>Intermediate</td>\n",
       "      <td>4.23</td>\n",
       "      <td>145267</td>\n",
       "      <td>genre fiction</td>\n",
       "      <td>12437.5</td>\n",
       "      <td>7462.5</td>\n",
       "      <td>1.99</td>\n",
       "      <td>2</td>\n",
       "      <td>HarperCollins Publishers</td>\n",
       "      <td>6250</td>\n",
       "    </tr>\n",
       "    <tr>\n",
       "      <th>2</th>\n",
       "      <td>2015.0</td>\n",
       "      <td>Go Set a Watchman</td>\n",
       "      <td>Harper Lee</td>\n",
       "      <td>eng</td>\n",
       "      <td>Novice</td>\n",
       "      <td>3.31</td>\n",
       "      <td>138669</td>\n",
       "      <td>genre fiction</td>\n",
       "      <td>47795.0</td>\n",
       "      <td>28677.0</td>\n",
       "      <td>8.69</td>\n",
       "      <td>3</td>\n",
       "      <td>Amazon Digital Services,  Inc.</td>\n",
       "      <td>5500</td>\n",
       "    </tr>\n",
       "    <tr>\n",
       "      <th>3</th>\n",
       "      <td>2008.0</td>\n",
       "      <td>When You Are Engulfed in Flames</td>\n",
       "      <td>David Sedaris</td>\n",
       "      <td>en-US</td>\n",
       "      <td>Intermediate</td>\n",
       "      <td>4.04</td>\n",
       "      <td>150898</td>\n",
       "      <td>fiction</td>\n",
       "      <td>41250.0</td>\n",
       "      <td>24750.0</td>\n",
       "      <td>7.50</td>\n",
       "      <td>3</td>\n",
       "      <td>Hachette Book Group</td>\n",
       "      <td>5500</td>\n",
       "    </tr>\n",
       "    <tr>\n",
       "      <th>4</th>\n",
       "      <td>2011.0</td>\n",
       "      <td>Daughter of Smoke &amp; Bone</td>\n",
       "      <td>Laini Taylor</td>\n",
       "      <td>eng</td>\n",
       "      <td>Intermediate</td>\n",
       "      <td>4.04</td>\n",
       "      <td>198283</td>\n",
       "      <td>genre fiction</td>\n",
       "      <td>37952.5</td>\n",
       "      <td>22771.5</td>\n",
       "      <td>7.99</td>\n",
       "      <td>4</td>\n",
       "      <td>Penguin Group (USA) LLC</td>\n",
       "      <td>4750</td>\n",
       "    </tr>\n",
       "  </tbody>\n",
       "</table>\n",
       "</div>"
      ],
      "text/plain": [
       "   Publishing Year                        Book Name  \\\n",
       "0           1975.0                          Beowulf   \n",
       "1           1987.0                 Batman: Year One   \n",
       "2           2015.0                Go Set a Watchman   \n",
       "3           2008.0  When You Are Engulfed in Flames   \n",
       "4           2011.0         Daughter of Smoke & Bone   \n",
       "\n",
       "                                              Author language_code  \\\n",
       "0                             Unknown, Seamus Heaney         en-US   \n",
       "1  Frank Miller, David Mazzucchelli, Richmond Lew...           eng   \n",
       "2                                         Harper Lee           eng   \n",
       "3                                      David Sedaris         en-US   \n",
       "4                                       Laini Taylor           eng   \n",
       "\n",
       "  Author_Rating  Book_average_rating  Book_ratings_count          genre  \\\n",
       "0        Novice                 3.42              155903  genre fiction   \n",
       "1  Intermediate                 4.23              145267  genre fiction   \n",
       "2        Novice                 3.31              138669  genre fiction   \n",
       "3  Intermediate                 4.04              150898        fiction   \n",
       "4  Intermediate                 4.04              198283  genre fiction   \n",
       "\n",
       "   gross sales  publisher revenue  sale price  sales rank  \\\n",
       "0      34160.0            20496.0        4.88           1   \n",
       "1      12437.5             7462.5        1.99           2   \n",
       "2      47795.0            28677.0        8.69           3   \n",
       "3      41250.0            24750.0        7.50           3   \n",
       "4      37952.5            22771.5        7.99           4   \n",
       "\n",
       "                       Publisher   units sold  \n",
       "0        HarperCollins Publishers        7000  \n",
       "1        HarperCollins Publishers        6250  \n",
       "2  Amazon Digital Services,  Inc.        5500  \n",
       "3             Hachette Book Group        5500  \n",
       "4         Penguin Group (USA) LLC        4750  "
      ]
     },
     "execution_count": 12,
     "metadata": {},
     "output_type": "execute_result"
    }
   ],
   "source": [
    "df.head()"
   ]
  },
  {
   "cell_type": "code",
   "execution_count": 13,
   "id": "85c5bde7",
   "metadata": {},
   "outputs": [
    {
     "data": {
      "image/png": "[encoded data removed]",
      "text/plain": [
       "<Figure size 640x480 with 1 Axes>"
      ]
     },
     "metadata": {},
     "output_type": "display_data"
    }
   ],
   "source": [
    "plt.Figure(figsize=(10,8))\n",
    "sns.histplot(data=df , x='Publishing Year')\n",
    "plt.ylabel('freqency')\n",
    "plt.suptitle(\"Distribution of publishing Year\")\n",
    "plt.show()"
   ]
  },
  {
   "cell_type": "code",
   "execution_count": 14,
   "id": "340f6fb7",
   "metadata": {},
   "outputs": [],
   "source": [
    "genre_name = df['genre'].value_counts().index\n",
    "genre_val = df['genre'].value_counts().values"
   ]
  },
  {
   "cell_type": "code",
   "execution_count": 15,
   "id": "5f89631e",
   "metadata": {},
   "outputs": [
    {
     "data": {
      "image/png": "[encoded data removed]",
      "text/plain": [
       "<Figure size 640x480 with 1 Axes>"
      ]
     },
     "metadata": {},
     "output_type": "display_data"
    }
   ],
   "source": [
    "sns.barplot(x=genre_name , y=genre_val )\n",
    "plt.suptitle(\"Number of book in each genre\")\n",
    "\n",
    "plt.xlabel(\"Genre\")\n",
    "plt.ylabel(\"Number of book\")\n",
    "\n",
    "\n",
    "plt.show()"
   ]
  },
  {
   "cell_type": "code",
   "execution_count": 16,
   "id": "9480808e",
   "metadata": {},
   "outputs": [
    {
     "data": {
      "text/html": [
       "<div>\n",
       "<style scoped>\n",
       "    .dataframe tbody tr th:only-of-type {\n",
       "        vertical-align: middle;\n",
       "    }\n",
       "\n",
       "    .dataframe tbody tr th {\n",
       "        vertical-align: top;\n",
       "    }\n",
       "\n",
       "    .dataframe thead th {\n",
       "        text-align: right;\n",
       "    }\n",
       "</style>\n",
       "<table border=\"1\" class=\"dataframe\">\n",
       "  <thead>\n",
       "    <tr style=\"text-align: right;\">\n",
       "      <th></th>\n",
       "      <th>Author</th>\n",
       "      <th>Book_average_rating</th>\n",
       "    </tr>\n",
       "  </thead>\n",
       "  <tbody>\n",
       "    <tr>\n",
       "      <th>0</th>\n",
       "      <td>Bill Watterson</td>\n",
       "      <td>4.650000</td>\n",
       "    </tr>\n",
       "    <tr>\n",
       "      <th>1</th>\n",
       "      <td>Bill Watterson, G.B. Trudeau</td>\n",
       "      <td>4.610000</td>\n",
       "    </tr>\n",
       "    <tr>\n",
       "      <th>2</th>\n",
       "      <td>J.R.R. Tolkien</td>\n",
       "      <td>4.590000</td>\n",
       "    </tr>\n",
       "    <tr>\n",
       "      <th>3</th>\n",
       "      <td>George R.R. Martin</td>\n",
       "      <td>4.560000</td>\n",
       "    </tr>\n",
       "    <tr>\n",
       "      <th>4</th>\n",
       "      <td>Sarah J. Maas</td>\n",
       "      <td>4.526000</td>\n",
       "    </tr>\n",
       "    <tr>\n",
       "      <th>...</th>\n",
       "      <td>...</td>\n",
       "      <td>...</td>\n",
       "    </tr>\n",
       "    <tr>\n",
       "      <th>664</th>\n",
       "      <td>Chetan Bhagat</td>\n",
       "      <td>3.273333</td>\n",
       "    </tr>\n",
       "    <tr>\n",
       "      <th>665</th>\n",
       "      <td>Audrey Niffenegger</td>\n",
       "      <td>3.230000</td>\n",
       "    </tr>\n",
       "    <tr>\n",
       "      <th>666</th>\n",
       "      <td>Herman Koch, Sam Garrett</td>\n",
       "      <td>3.220000</td>\n",
       "    </tr>\n",
       "    <tr>\n",
       "      <th>667</th>\n",
       "      <td>P.D. James</td>\n",
       "      <td>3.210000</td>\n",
       "    </tr>\n",
       "    <tr>\n",
       "      <th>668</th>\n",
       "      <td>Sue Monk Kidd</td>\n",
       "      <td>3.100000</td>\n",
       "    </tr>\n",
       "  </tbody>\n",
       "</table>\n",
       "<p>669 rows × 2 columns</p>\n",
       "</div>"
      ],
      "text/plain": [
       "                           Author  Book_average_rating\n",
       "0                  Bill Watterson             4.650000\n",
       "1    Bill Watterson, G.B. Trudeau             4.610000\n",
       "2                  J.R.R. Tolkien             4.590000\n",
       "3              George R.R. Martin             4.560000\n",
       "4                   Sarah J. Maas             4.526000\n",
       "..                            ...                  ...\n",
       "664                 Chetan Bhagat             3.273333\n",
       "665            Audrey Niffenegger             3.230000\n",
       "666      Herman Koch, Sam Garrett             3.220000\n",
       "667                    P.D. James             3.210000\n",
       "668                 Sue Monk Kidd             3.100000\n",
       "\n",
       "[669 rows x 2 columns]"
      ]
     },
     "execution_count": 16,
     "metadata": {},
     "output_type": "execute_result"
    }
   ],
   "source": [
    "author_grouping = df.groupby('Author')['Book_average_rating'].mean().sort_values(ascending=False).reset_index()\n",
    "author_grouping"
   ]
  },
  {
   "cell_type": "code",
   "execution_count": 17,
   "id": "f991a74c",
   "metadata": {},
   "outputs": [
    {
     "data": {
      "image/png": "[encoded data removed]",
      "text/plain": [
       "<Figure size 640x480 with 1 Axes>"
      ]
     },
     "metadata": {},
     "output_type": "display_data"
    }
   ],
   "source": [
    "sns.boxplot(data=df , x='genre' , y='Book_ratings_count')\n",
    "\n",
    "plt.title('Books rating count')\n",
    "\n",
    "plt.show()"
   ]
  },
  {
   "cell_type": "code",
   "execution_count": 18,
   "id": "6b78acc5",
   "metadata": {},
   "outputs": [
    {
     "data": {
      "application/vnd.plotly.v1+json": {
       "config": {
        "plotlyServerURL": "https://plot.ly"
       },
       "data": [
        {
         "alignmentgroup": "True",
         "hovertemplate": "genre=%{x}<br>Book_ratings_count=%{y}<extra></extra>",
         "legendgroup": "genre fiction",
         "marker": {
          "color": "rgb(76,114,176)"
         },
         "name": "genre fiction",
         "notched": false,
         "offsetgroup": "genre fiction",
         "orientation": "v",
         "showlegend": true,
         "type": "box",
         "x": [
          "genre fiction",
          "genre fiction",
          "genre fiction",
          "genre fiction",
          "genre fiction",
          "genre fiction",
          "genre fiction",
          "genre fiction",
          "genre fiction",
          "genre fiction",
          "genre fiction",
          "genre fiction",
          "genre fiction",
          "genre fiction",
          "genre fiction",
          "genre fiction",
          "genre fiction",
          "genre fiction",
          "genre fiction",
          "genre fiction",
          "genre fiction",
          "genre fiction",
          "genre fiction",
          "genre fiction",
          "genre fiction",
          "genre fiction",
          "genre fiction",
          "genre fiction",
          "genre fiction",
          "genre fiction",
          "genre fiction",
          "genre fiction",
          "genre fiction",
          "genre fiction",
          "genre fiction",
          "genre fiction",
          "genre fiction",
          "genre fiction",
          "genre fiction",
          "genre fiction",
          "genre fiction",
          "genre fiction",
          "genre fiction",
          "genre fiction",
          "genre fiction",
          "genre fiction",
          "genre fiction",
          "genre fiction",
          "genre fiction",
          "genre fiction",
          "genre fiction",
          "genre fiction",
          "genre fiction",
          "genre fiction",
          "genre fiction",
          "genre fiction",
          "genre fiction",
          "genre fiction",
          "genre fiction",
          "genre fiction",
          "genre fiction",
          "genre fiction",
          "genre fiction",
          "genre fiction",
          "genre fiction",
          "genre fiction",
          "genre fiction",
          "genre fiction",
          "genre fiction",
          "genre fiction",
          "genre fiction",
          "genre fiction",
          "genre fiction",
          "genre fiction",
          "genre fiction",
          "genre fiction",
          "genre fiction",
          "genre fiction",
          "genre fiction",
          "genre fiction",
          "genre fiction",
          "genre fiction",
          "genre fiction",
          "genre fiction",
          "genre fiction",
          "genre fiction",
          "genre fiction",
          "genre fiction",
          "genre fiction",
          "genre fiction",
          "genre fiction",
          "genre fiction",
          "genre fiction",
          "genre fiction",
          "genre fiction",
          "genre fiction",
          "genre fiction",
          "genre fiction",
          "genre fiction",
          "genre fiction",
          "genre fiction",
          "genre fiction",
          "genre fiction",
          "genre fiction",
          "genre fiction",
          "genre fiction",
          "genre fiction",
          "genre fiction",
          "genre fiction",
          "genre fiction",
          "genre fiction",
          "genre fiction",
          "genre fiction",
          "genre fiction",
          "genre fiction",
          "genre fiction",
          "genre fiction",
          "genre fiction",
          "genre fiction",
          "genre fiction",
          "genre fiction",
          "genre fiction",
          "genre fiction",
          "genre fiction",
          "genre fiction",
          "genre fiction",
          "genre fiction",
          "genre fiction",
          "genre fiction",
          "genre fiction",
          "genre fiction",
          "genre fiction",
          "genre fiction",
          "genre fiction",
          "genre fiction",
          "genre fiction",
          "genre fiction",
          "genre fiction",
          "genre fiction",
          "genre fiction",
          "genre fiction",
          "genre fiction",
          "genre fiction",
          "genre fiction",
          "genre fiction",
          "genre fiction",
          "genre fiction",
          "genre fiction",
          "genre fiction",
          "genre fiction",
          "genre fiction",
          "genre fiction",
          "genre fiction",
          "genre fiction",
          "genre fiction",
          "genre fiction",
          "genre fiction",
          "genre fiction",
          "genre fiction",
          "genre fiction",
          "genre fiction",
          "genre fiction",
          "genre fiction",
          "genre fiction",
          "genre fiction",
          "genre fiction",
          "genre fiction",
          "genre fiction",
          "genre fiction",
          "genre fiction",
          "genre fiction",
          "genre fiction",
          "genre fiction",
          "genre fiction",
          "genre fiction",
          "genre fiction",
          "genre fiction",
          "genre fiction",
          "genre fiction",
          "genre fiction",
          "genre fiction",
          "genre fiction",
          "genre fiction",
          "genre fiction",
          "genre fiction",
          "genre fiction",
          "genre fiction",
          "genre fiction",
          "genre fiction",
          "genre fiction",
          "genre fiction",
          "genre fiction",
          "genre fiction",
          "genre fiction",
          "genre fiction",
          "genre fiction",
          "genre fiction",
          "genre fiction",
          "genre fiction",
          "genre fiction",
          "genre fiction",
          "genre fiction",
          "genre fiction",
          "genre fiction",
          "genre fiction",
          "genre fiction",
          "genre fiction",
          "genre fiction",
          "genre fiction",
          "genre fiction",
          "genre fiction",
          "genre fiction",
          "genre fiction",
          "genre fiction",
          "genre fiction",
          "genre fiction",
          "genre fiction",
          "genre fiction",
          "genre fiction",
          "genre fiction",
          "genre fiction",
          "genre fiction",
          "genre fiction",
          "genre fiction",
          "genre fiction",
          "genre fiction",
          "genre fiction",
          "genre fiction",
          "genre fiction",
          "genre fiction",
          "genre fiction",
          "genre fiction",
          "genre fiction",
          "genre fiction",
          "genre fiction",
          "genre fiction",
          "genre fiction",
          "genre fiction",
          "genre fiction",
          "genre fiction",
          "genre fiction",
          "genre fiction",
          "genre fiction",
          "genre fiction",
          "genre fiction",
          "genre fiction",
          "genre fiction",
          "genre fiction",
          "genre fiction",
          "genre fiction",
          "genre fiction",
          "genre fiction",
          "genre fiction",
          "genre fiction",
          "genre fiction",
          "genre fiction",
          "genre fiction",
          "genre fiction",
          "genre fiction",
          "genre fiction",
          "genre fiction",
          "genre fiction",
          "genre fiction",
          "genre fiction",
          "genre fiction",
          "genre fiction",
          "genre fiction",
          "genre fiction",
          "genre fiction",
          "genre fiction",
          "genre fiction",
          "genre fiction",
          "genre fiction",
          "genre fiction",
          "genre fiction",
          "genre fiction",
          "genre fiction",
          "genre fiction",
          "genre fiction",
          "genre fiction",
          "genre fiction",
          "genre fiction",
          "genre fiction",
          "genre fiction",
          "genre fiction",
          "genre fiction",
          "genre fiction",
          "genre fiction",
          "genre fiction",
          "genre fiction",
          "genre fiction",
          "genre fiction",
          "genre fiction",
          "genre fiction",
          "genre fiction",
          "genre fiction",
          "genre fiction",
          "genre fiction",
          "genre fiction",
          "genre fiction",
          "genre fiction",
          "genre fiction",
          "genre fiction",
          "genre fiction",
          "genre fiction",
          "genre fiction",
          "genre fiction",
          "genre fiction",
          "genre fiction",
          "genre fiction",
          "genre fiction",
          "genre fiction",
          "genre fiction",
          "genre fiction",
          "genre fiction",
          "genre fiction",
          "genre fiction",
          "genre fiction",
          "genre fiction",
          "genre fiction",
          "genre fiction",
          "genre fiction",
          "genre fiction",
          "genre fiction",
          "genre fiction",
          "genre fiction",
          "genre fiction",
          "genre fiction",
          "genre fiction",
          "genre fiction",
          "genre fiction",
          "genre fiction",
          "genre fiction",
          "genre fiction",
          "genre fiction",
          "genre fiction",
          "genre fiction",
          "genre fiction",
          "genre fiction",
          "genre fiction",
          "genre fiction",
          "genre fiction",
          "genre fiction",
          "genre fiction",
          "genre fiction",
          "genre fiction",
          "genre fiction",
          "genre fiction",
          "genre fiction",
          "genre fiction",
          "genre fiction",
          "genre fiction",
          "genre fiction",
          "genre fiction",
          "genre fiction",
          "genre fiction",
          "genre fiction",
          "genre fiction",
          "genre fiction",
          "genre fiction",
          "genre fiction",
          "genre fiction",
          "genre fiction",
          "genre fiction",
          "genre fiction",
          "genre fiction",
          "genre fiction",
          "genre fiction",
          "genre fiction",
          "genre fiction",
          "genre fiction",
          "genre fiction",
          "genre fiction",
          "genre fiction",
          "genre fiction",
          "genre fiction",
          "genre fiction",
          "genre fiction",
          "genre fiction",
          "genre fiction",
          "genre fiction",
          "genre fiction",
          "genre fiction",
          "genre fiction",
          "genre fiction",
          "genre fiction",
          "genre fiction",
          "genre fiction",
          "genre fiction",
          "genre fiction",
          "genre fiction",
          "genre fiction",
          "genre fiction",
          "genre fiction",
          "genre fiction",
          "genre fiction",
          "genre fiction",
          "genre fiction",
          "genre fiction",
          "genre fiction",
          "genre fiction",
          "genre fiction",
          "genre fiction",
          "genre fiction",
          "genre fiction",
          "genre fiction",
          "genre fiction",
          "genre fiction",
          "genre fiction",
          "genre fiction",
          "genre fiction",
          "genre fiction",
          "genre fiction",
          "genre fiction",
          "genre fiction",
          "genre fiction",
          "genre fiction",
          "genre fiction",
          "genre fiction",
          "genre fiction",
          "genre fiction",
          "genre fiction",
          "genre fiction",
          "genre fiction",
          "genre fiction",
          "genre fiction",
          "genre fiction",
          "genre fiction",
          "genre fiction",
          "genre fiction",
          "genre fiction",
          "genre fiction",
          "genre fiction",
          "genre fiction",
          "genre fiction",
          "genre fiction",
          "genre fiction",
          "genre fiction",
          "genre fiction",
          "genre fiction",
          "genre fiction",
          "genre fiction",
          "genre fiction",
          "genre fiction",
          "genre fiction",
          "genre fiction",
          "genre fiction",
          "genre fiction",
          "genre fiction",
          "genre fiction",
          "genre fiction",
          "genre fiction",
          "genre fiction",
          "genre fiction",
          "genre fiction",
          "genre fiction",
          "genre fiction",
          "genre fiction",
          "genre fiction",
          "genre fiction",
          "genre fiction",
          "genre fiction",
          "genre fiction",
          "genre fiction",
          "genre fiction",
          "genre fiction",
          "genre fiction",
          "genre fiction",
          "genre fiction",
          "genre fiction",
          "genre fiction",
          "genre fiction",
          "genre fiction",
          "genre fiction",
          "genre fiction",
          "genre fiction",
          "genre fiction",
          "genre fiction",
          "genre fiction",
          "genre fiction",
          "genre fiction",
          "genre fiction",
          "genre fiction",
          "genre fiction",
          "genre fiction",
          "genre fiction",
          "genre fiction",
          "genre fiction",
          "genre fiction",
          "genre fiction",
          "genre fiction",
          "genre fiction",
          "genre fiction",
          "genre fiction",
          "genre fiction",
          "genre fiction",
          "genre fiction",
          "genre fiction",
          "genre fiction",
          "genre fiction",
          "genre fiction",
          "genre fiction",
          "genre fiction",
          "genre fiction",
          "genre fiction",
          "genre fiction",
          "genre fiction",
          "genre fiction",
          "genre fiction",
          "genre fiction",
          "genre fiction",
          "genre fiction",
          "genre fiction",
          "genre fiction",
          "genre fiction",
          "genre fiction",
          "genre fiction",
          "genre fiction",
          "genre fiction",
          "genre fiction",
          "genre fiction",
          "genre fiction",
          "genre fiction",
          "genre fiction",
          "genre fiction",
          "genre fiction",
          "genre fiction",
          "genre fiction",
          "genre fiction",
          "genre fiction",
          "genre fiction",
          "genre fiction",
          "genre fiction",
          "genre fiction",
          "genre fiction",
          "genre fiction",
          "genre fiction",
          "genre fiction",
          "genre fiction",
          "genre fiction",
          "genre fiction",
          "genre fiction",
          "genre fiction",
          "genre fiction",
          "genre fiction",
          "genre fiction",
          "genre fiction",
          "genre fiction",
          "genre fiction",
          "genre fiction",
          "genre fiction",
          "genre fiction",
          "genre fiction",
          "genre fiction",
          "genre fiction",
          "genre fiction",
          "genre fiction",
          "genre fiction",
          "genre fiction",
          "genre fiction",
          "genre fiction",
          "genre fiction",
          "genre fiction",
          "genre fiction",
          "genre fiction",
          "genre fiction",
          "genre fiction",
          "genre fiction",
          "genre fiction",
          "genre fiction",
          "genre fiction",
          "genre fiction",
          "genre fiction",
          "genre fiction",
          "genre fiction",
          "genre fiction",
          "genre fiction",
          "genre fiction",
          "genre fiction",
          "genre fiction",
          "genre fiction",
          "genre fiction",
          "genre fiction",
          "genre fiction",
          "genre fiction",
          "genre fiction",
          "genre fiction",
          "genre fiction",
          "genre fiction",
          "genre fiction",
          "genre fiction",
          "genre fiction",
          "genre fiction",
          "genre fiction",
          "genre fiction",
          "genre fiction",
          "genre fiction",
          "genre fiction",
          "genre fiction",
          "genre fiction",
          "genre fiction",
          "genre fiction",
          "genre fiction",
          "genre fiction",
          "genre fiction",
          "genre fiction",
          "genre fiction",
          "genre fiction",
          "genre fiction",
          "genre fiction",
          "genre fiction",
          "genre fiction",
          "genre fiction",
          "genre fiction",
          "genre fiction",
          "genre fiction",
          "genre fiction",
          "genre fiction",
          "genre fiction",
          "genre fiction",
          "genre fiction",
          "genre fiction",
          "genre fiction",
          "genre fiction",
          "genre fiction",
          "genre fiction",
          "genre fiction",
          "genre fiction",
          "genre fiction",
          "genre fiction",
          "genre fiction",
          "genre fiction",
          "genre fiction",
          "genre fiction",
          "genre fiction",
          "genre fiction",
          "genre fiction",
          "genre fiction",
          "genre fiction",
          "genre fiction",
          "genre fiction",
          "genre fiction",
          "genre fiction",
          "genre fiction",
          "genre fiction",
          "genre fiction",
          "genre fiction",
          "genre fiction",
          "genre fiction",
          "genre fiction",
          "genre fiction",
          "genre fiction",
          "genre fiction",
          "genre fiction",
          "genre fiction",
          "genre fiction",
          "genre fiction",
          "genre fiction",
          "genre fiction",
          "genre fiction",
          "genre fiction",
          "genre fiction",
          "genre fiction",
          "genre fiction",
          "genre fiction",
          "genre fiction",
          "genre fiction",
          "genre fiction",
          "genre fiction",
          "genre fiction",
          "genre fiction",
          "genre fiction",
          "genre fiction",
          "genre fiction",
          "genre fiction",
          "genre fiction",
          "genre fiction",
          "genre fiction",
          "genre fiction",
          "genre fiction",
          "genre fiction",
          "genre fiction",
          "genre fiction",
          "genre fiction",
          "genre fiction",
          "genre fiction",
          "genre fiction",
          "genre fiction",
          "genre fiction",
          "genre fiction",
          "genre fiction",
          "genre fiction",
          "genre fiction",
          "genre fiction",
          "genre fiction",
          "genre fiction",
          "genre fiction",
          "genre fiction",
          "genre fiction",
          "genre fiction",
          "genre fiction",
          "genre fiction",
          "genre fiction",
          "genre fiction",
          "genre fiction",
          "genre fiction",
          "genre fiction",
          "genre fiction",
          "genre fiction",
          "genre fiction",
          "genre fiction",
          "genre fiction",
          "genre fiction",
          "genre fiction",
          "genre fiction",
          "genre fiction",
          "genre fiction",
          "genre fiction",
          "genre fiction",
          "genre fiction",
          "genre fiction",
          "genre fiction",
          "genre fiction",
          "genre fiction",
          "genre fiction",
          "genre fiction",
          "genre fiction",
          "genre fiction",
          "genre fiction",
          "genre fiction",
          "genre fiction",
          "genre fiction",
          "genre fiction",
          "genre fiction",
          "genre fiction",
          "genre fiction",
          "genre fiction",
          "genre fiction",
          "genre fiction",
          "genre fiction",
          "genre fiction",
          "genre fiction",
          "genre fiction",
          "genre fiction",
          "genre fiction",
          "genre fiction",
          "genre fiction",
          "genre fiction",
          "genre fiction",
          "genre fiction",
          "genre fiction",
          "genre fiction",
          "genre fiction",
          "genre fiction",
          "genre fiction",
          "genre fiction",
          "genre fiction",
          "genre fiction",
          "genre fiction"
         ],
         "x0": " ",
         "xaxis": "x",
         "y": {
          "bdata": "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",
          "dtype": "i4"
         },
         "y0": " ",
         "yaxis": "y"
        },
        {
         "alignmentgroup": "True",
         "hovertemplate": "genre=%{x}<br>Book_ratings_count=%{y}<extra></extra>",
         "legendgroup": "fiction",
         "marker": {
          "color": "rgb(221,132,82)"
         },
         "name": "fiction",
         "notched": false,
         "offsetgroup": "fiction",
         "orientation": "v",
         "showlegend": true,
         "type": "box",
         "x": [
          "fiction",
          "fiction",
          "fiction",
          "fiction",
          "fiction",
          "fiction",
          "fiction",
          "fiction",
          "fiction",
          "fiction",
          "fiction",
          "fiction",
          "fiction",
          "fiction",
          "fiction",
          "fiction",
          "fiction",
          "fiction",
          "fiction",
          "fiction",
          "fiction",
          "fiction",
          "fiction",
          "fiction",
          "fiction",
          "fiction",
          "fiction",
          "fiction",
          "fiction",
          "fiction",
          "fiction",
          "fiction",
          "fiction",
          "fiction",
          "fiction",
          "fiction",
          "fiction",
          "fiction",
          "fiction",
          "fiction",
          "fiction",
          "fiction",
          "fiction",
          "fiction",
          "fiction",
          "fiction",
          "fiction",
          "fiction",
          "fiction",
          "fiction",
          "fiction",
          "fiction",
          "fiction",
          "fiction"
         ],
         "x0": " ",
         "xaxis": "x",
         "y": {
          "bdata": "ck0CAOfkAgDS8AEAMbECAOHCAgDE1AEAQpoBAJvxAQDomgEAI20BAD6HAQDMjwEAmWkBAAkrAQDikAAA92QBAIdHAQAhbAEAORACACpCAQCSfgEAgTsBALBCAQAiewEAGmABACEJAQBEIQEAFyUBAAkcAQC0HQEA5XABADmtAQBUqQEAdxoBAP0MAQDnDgEA3A8BAOp8AQCyJQEALWABAD4fAQAtFAEAOAMBAL2OAACuRwEAwwYBAPbEAAAJ4gAAmyABAEXqAAAxOgEAIOEAAG3MAAAE7gAA",
          "dtype": "i4"
         },
         "y0": " ",
         "yaxis": "y"
        },
        {
         "alignmentgroup": "True",
         "hovertemplate": "genre=%{x}<br>Book_ratings_count=%{y}<extra></extra>",
         "legendgroup": "nonfiction",
         "marker": {
          "color": "rgb(85,168,104)"
         },
         "name": "nonfiction",
         "notched": false,
         "offsetgroup": "nonfiction",
         "orientation": "v",
         "showlegend": true,
         "type": "box",
         "x": [
          "nonfiction",
          "nonfiction",
          "nonfiction",
          "nonfiction",
          "nonfiction",
          "nonfiction",
          "nonfiction",
          "nonfiction",
          "nonfiction",
          "nonfiction",
          "nonfiction",
          "nonfiction",
          "nonfiction",
          "nonfiction",
          "nonfiction",
          "nonfiction",
          "nonfiction",
          "nonfiction",
          "nonfiction",
          "nonfiction",
          "nonfiction",
          "nonfiction",
          "nonfiction",
          "nonfiction",
          "nonfiction",
          "nonfiction",
          "nonfiction",
          "nonfiction",
          "nonfiction",
          "nonfiction",
          "nonfiction",
          "nonfiction",
          "nonfiction",
          "nonfiction",
          "nonfiction",
          "nonfiction",
          "nonfiction",
          "nonfiction",
          "nonfiction",
          "nonfiction",
          "nonfiction",
          "nonfiction",
          "nonfiction",
          "nonfiction",
          "nonfiction",
          "nonfiction",
          "nonfiction",
          "nonfiction",
          "nonfiction",
          "nonfiction",
          "nonfiction",
          "nonfiction",
          "nonfiction",
          "nonfiction",
          "nonfiction",
          "nonfiction",
          "nonfiction",
          "nonfiction",
          "nonfiction",
          "nonfiction",
          "nonfiction",
          "nonfiction",
          "nonfiction",
          "nonfiction",
          "nonfiction",
          "nonfiction",
          "nonfiction",
          "nonfiction",
          "nonfiction",
          "nonfiction",
          "nonfiction",
          "nonfiction",
          "nonfiction",
          "nonfiction",
          "nonfiction",
          "nonfiction",
          "nonfiction",
          "nonfiction",
          "nonfiction",
          "nonfiction",
          "nonfiction",
          "nonfiction",
          "nonfiction",
          "nonfiction",
          "nonfiction",
          "nonfiction",
          "nonfiction",
          "nonfiction",
          "nonfiction",
          "nonfiction",
          "nonfiction",
          "nonfiction",
          "nonfiction",
          "nonfiction",
          "nonfiction",
          "nonfiction",
          "nonfiction",
          "nonfiction",
          "nonfiction",
          "nonfiction",
          "nonfiction",
          "nonfiction",
          "nonfiction",
          "nonfiction",
          "nonfiction",
          "nonfiction",
          "nonfiction",
          "nonfiction",
          "nonfiction",
          "nonfiction",
          "nonfiction",
          "nonfiction",
          "nonfiction",
          "nonfiction",
          "nonfiction",
          "nonfiction",
          "nonfiction",
          "nonfiction",
          "nonfiction",
          "nonfiction",
          "nonfiction",
          "nonfiction",
          "nonfiction",
          "nonfiction",
          "nonfiction",
          "nonfiction",
          "nonfiction",
          "nonfiction",
          "nonfiction",
          "nonfiction",
          "nonfiction",
          "nonfiction",
          "nonfiction",
          "nonfiction",
          "nonfiction",
          "nonfiction",
          "nonfiction",
          "nonfiction",
          "nonfiction",
          "nonfiction",
          "nonfiction",
          "nonfiction",
          "nonfiction",
          "nonfiction",
          "nonfiction",
          "nonfiction",
          "nonfiction",
          "nonfiction",
          "nonfiction",
          "nonfiction",
          "nonfiction",
          "nonfiction",
          "nonfiction",
          "nonfiction",
          "nonfiction",
          "nonfiction",
          "nonfiction",
          "nonfiction",
          "nonfiction",
          "nonfiction"
         ],
         "x0": " ",
         "xaxis": "x",
         "y": {
          "bdata": "PZACAOl0AgDIqAIAeE4CAAYxAgAsHwIAQZACANPlAQDZPQIAwfcBABP7AQCnGQIAHnACAEb5AQAd2gEAWOMBAJzeAQA5vQEAht4BAEHDAQCF5wEArN4BABV5AgAczAEAoJABAIeyAQA5FgIATssBADGjAQDDzgEApJ0BAOmgAQDqFgIAm9YBALmYAQCojwIAVoYBABOQAQCggAEAe5QBAFYZAgDjXwEAH4EBAIjGAQDLxQEA/6UBAH/bAQC7WAEAtVMBAJUOAgAYdgEAv78BAJdGAQDIbQEAfF0BADpUAQDIfQEA9BUBADRrAQDhXQEA7iYBAPk5AQALbwEAKp0BAJI3AQAjGQEASnABAA8jAQAYLwEAlVEBAIVeAQAiSwEA3S0BANd0AQC7MgEAsF8BAH38AADVPgEAGlQBAFgqAQCGSQEAKyYBANA3AQCBawEALRsBAJgqAQCNRAEAlDYBAGQ7AQAKHAEAQAsBACNgAQCACgEAz+4AAP5kAQCgBAEAXxgBANdfAQDCDQEANu8AAAs3AQCj6wAA7hIBAJ/nAAApBQEAIBkBAOoaAQCOQAEAZxYBALwlAQCKIgEAcIgBAG8sAQDDzwAAXkEBAF0MAQDxKwEAs04BADrwAACK9gAA3w0BALspAQCklQEArCEBAJcyAQDvAgEAi/EAALoWAQDD6QAAc/cAAK1hAQBrBQEAfOAAAGLqAACgNQEAMBQBAI0RAQCFHQEAuRYBAMTXAADOpwAA+fgAAAP3AAAh6wAAxe0AANnlAADe1wAAXeYAAMVBAQDnEQEABOQAAAz5AAAANgEA5RoBAOkDAQBG6gAABQYBAIwBAQBaAAEAA5IAAA==",
          "dtype": "i4"
         },
         "y0": " ",
         "yaxis": "y"
        },
        {
         "alignmentgroup": "True",
         "hovertemplate": "genre=%{x}<br>Book_ratings_count=%{y}<extra></extra>",
         "legendgroup": "children",
         "marker": {
          "color": "rgb(196,78,82)"
         },
         "name": "children",
         "notched": false,
         "offsetgroup": "children",
         "orientation": "v",
         "showlegend": true,
         "type": "box",
         "x": [
          "children",
          "children",
          "children",
          "children",
          "children",
          "children",
          "children",
          "children",
          "children",
          "children",
          "children",
          "children",
          "children",
          "children",
          "children"
         ],
         "x0": " ",
         "xaxis": "x",
         "y": {
          "bdata": "B6oBAEiaAQArbAEAli4BAJYTAQDrGwEAYRIBAEFqAQDQRgEAvBgBAPbzAABb+wAAoJMAAKpKAQA72AAA",
          "dtype": "i4"
         },
         "y0": " ",
         "yaxis": "y"
        }
       ],
       "layout": {
        "boxmode": "overlay",
        "legend": {
         "title": {
          "text": "genre"
         },
         "tracegroupgap": 0
        },
        "template": {
         "data": {
          "bar": [
           {
            "error_x": {
             "color": "rgb(36,36,36)"
            },
            "error_y": {
             "color": "rgb(36,36,36)"
            },
            "marker": {
             "line": {
              "color": "rgb(234,234,242)",
              "width": 0.5
             },
             "pattern": {
              "fillmode": "overlay",
              "size": 10,
              "solidity": 0.2
             }
            },
            "type": "bar"
           }
          ],
          "barpolar": [
           {
            "marker": {
             "line": {
              "color": "rgb(234,234,242)",
              "width": 0.5
             },
             "pattern": {
              "fillmode": "overlay",
              "size": 10,
              "solidity": 0.2
             }
            },
            "type": "barpolar"
           }
          ],
          "carpet": [
           {
            "aaxis": {
             "endlinecolor": "rgb(36,36,36)",
             "gridcolor": "white",
             "linecolor": "white",
             "minorgridcolor": "white",
             "startlinecolor": "rgb(36,36,36)"
            },
            "baxis": {
             "endlinecolor": "rgb(36,36,36)",
             "gridcolor": "white",
             "linecolor": "white",
             "minorgridcolor": "white",
             "startlinecolor": "rgb(36,36,36)"
            },
            "type": "carpet"
           }
          ],
          "choropleth": [
           {
            "colorbar": {
             "outlinewidth": 0,
             "tickcolor": "rgb(36,36,36)",
             "ticklen": 8,
             "ticks": "outside",
             "tickwidth": 2
            },
            "type": "choropleth"
           }
          ],
          "contour": [
           {
            "colorbar": {
             "outlinewidth": 0,
             "tickcolor": "rgb(36,36,36)",
             "ticklen": 8,
             "ticks": "outside",
             "tickwidth": 2
            },
            "colorscale": [
             [
              0,
              "rgb(2,4,25)"
             ],
             [
              0.06274509803921569,
              "rgb(24,15,41)"
             ],
             [
              0.12549019607843137,
              "rgb(47,23,57)"
             ],
             [
              0.18823529411764706,
              "rgb(71,28,72)"
             ],
             [
              0.25098039215686274,
              "rgb(97,30,82)"
             ],
             [
              0.3137254901960784,
              "rgb(123,30,89)"
             ],
             [
              0.3764705882352941,
              "rgb(150,27,91)"
             ],
             [
              0.4392156862745098,
              "rgb(177,22,88)"
             ],
             [
              0.5019607843137255,
              "rgb(203,26,79)"
             ],
             [
              0.5647058823529412,
              "rgb(223,47,67)"
             ],
             [
              0.6274509803921569,
              "rgb(236,76,61)"
             ],
             [
              0.6901960784313725,
              "rgb(242,107,73)"
             ],
             [
              0.7529411764705882,
              "rgb(244,135,95)"
             ],
             [
              0.8156862745098039,
              "rgb(245,162,122)"
             ],
             [
              0.8784313725490196,
              "rgb(246,188,153)"
             ],
             [
              0.9411764705882353,
              "rgb(247,212,187)"
             ],
             [
              1,
              "rgb(250,234,220)"
             ]
            ],
            "type": "contour"
           }
          ],
          "contourcarpet": [
           {
            "colorbar": {
             "outlinewidth": 0,
             "tickcolor": "rgb(36,36,36)",
             "ticklen": 8,
             "ticks": "outside",
             "tickwidth": 2
            },
            "type": "contourcarpet"
           }
          ],
          "heatmap": [
           {
            "colorbar": {
             "outlinewidth": 0,
             "tickcolor": "rgb(36,36,36)",
             "ticklen": 8,
             "ticks": "outside",
             "tickwidth": 2
            },
            "colorscale": [
             [
              0,
              "rgb(2,4,25)"
             ],
             [
              0.06274509803921569,
              "rgb(24,15,41)"
             ],
             [
              0.12549019607843137,
              "rgb(47,23,57)"
             ],
             [
              0.18823529411764706,
              "rgb(71,28,72)"
             ],
             [
              0.25098039215686274,
              "rgb(97,30,82)"
             ],
             [
              0.3137254901960784,
              "rgb(123,30,89)"
             ],
             [
              0.3764705882352941,
              "rgb(150,27,91)"
             ],
             [
              0.4392156862745098,
              "rgb(177,22,88)"
             ],
             [
              0.5019607843137255,
              "rgb(203,26,79)"
             ],
             [
              0.5647058823529412,
              "rgb(223,47,67)"
             ],
             [
              0.6274509803921569,
              "rgb(236,76,61)"
             ],
             [
              0.6901960784313725,
              "rgb(242,107,73)"
             ],
             [
              0.7529411764705882,
              "rgb(244,135,95)"
             ],
             [
              0.8156862745098039,
              "rgb(245,162,122)"
             ],
             [
              0.8784313725490196,
              "rgb(246,188,153)"
             ],
             [
              0.9411764705882353,
              "rgb(247,212,187)"
             ],
             [
              1,
              "rgb(250,234,220)"
             ]
            ],
            "type": "heatmap"
           }
          ],
          "histogram": [
           {
            "marker": {
             "pattern": {
              "fillmode": "overlay",
              "size": 10,
              "solidity": 0.2
             }
            },
            "type": "histogram"
           }
          ],
          "histogram2d": [
           {
            "colorbar": {
             "outlinewidth": 0,
             "tickcolor": "rgb(36,36,36)",
             "ticklen": 8,
             "ticks": "outside",
             "tickwidth": 2
            },
            "colorscale": [
             [
              0,
              "rgb(2,4,25)"
             ],
             [
              0.06274509803921569,
              "rgb(24,15,41)"
             ],
             [
              0.12549019607843137,
              "rgb(47,23,57)"
             ],
             [
              0.18823529411764706,
              "rgb(71,28,72)"
             ],
             [
              0.25098039215686274,
              "rgb(97,30,82)"
             ],
             [
              0.3137254901960784,
              "rgb(123,30,89)"
             ],
             [
              0.3764705882352941,
              "rgb(150,27,91)"
             ],
             [
              0.4392156862745098,
              "rgb(177,22,88)"
             ],
             [
              0.5019607843137255,
              "rgb(203,26,79)"
             ],
             [
              0.5647058823529412,
              "rgb(223,47,67)"
             ],
             [
              0.6274509803921569,
              "rgb(236,76,61)"
             ],
             [
              0.6901960784313725,
              "rgb(242,107,73)"
             ],
             [
              0.7529411764705882,
              "rgb(244,135,95)"
             ],
             [
              0.8156862745098039,
              "rgb(245,162,122)"
             ],
             [
              0.8784313725490196,
              "rgb(246,188,153)"
             ],
             [
              0.9411764705882353,
              "rgb(247,212,187)"
             ],
             [
              1,
              "rgb(250,234,220)"
             ]
            ],
            "type": "histogram2d"
           }
          ],
          "histogram2dcontour": [
           {
            "colorbar": {
             "outlinewidth": 0,
             "tickcolor": "rgb(36,36,36)",
             "ticklen": 8,
             "ticks": "outside",
             "tickwidth": 2
            },
            "colorscale": [
             [
              0,
              "rgb(2,4,25)"
             ],
             [
              0.06274509803921569,
              "rgb(24,15,41)"
             ],
             [
              0.12549019607843137,
              "rgb(47,23,57)"
             ],
             [
              0.18823529411764706,
              "rgb(71,28,72)"
             ],
             [
              0.25098039215686274,
              "rgb(97,30,82)"
             ],
             [
              0.3137254901960784,
              "rgb(123,30,89)"
             ],
             [
              0.3764705882352941,
              "rgb(150,27,91)"
             ],
             [
              0.4392156862745098,
              "rgb(177,22,88)"
             ],
             [
              0.5019607843137255,
              "rgb(203,26,79)"
             ],
             [
              0.5647058823529412,
              "rgb(223,47,67)"
             ],
             [
              0.6274509803921569,
              "rgb(236,76,61)"
             ],
             [
              0.6901960784313725,
              "rgb(242,107,73)"
             ],
             [
              0.7529411764705882,
              "rgb(244,135,95)"
             ],
             [
              0.8156862745098039,
              "rgb(245,162,122)"
             ],
             [
              0.8784313725490196,
              "rgb(246,188,153)"
             ],
             [
              0.9411764705882353,
              "rgb(247,212,187)"
             ],
             [
              1,
              "rgb(250,234,220)"
             ]
            ],
            "type": "histogram2dcontour"
           }
          ],
          "mesh3d": [
           {
            "colorbar": {
             "outlinewidth": 0,
             "tickcolor": "rgb(36,36,36)",
             "ticklen": 8,
             "ticks": "outside",
             "tickwidth": 2
            },
            "type": "mesh3d"
           }
          ],
          "parcoords": [
           {
            "line": {
             "colorbar": {
              "outlinewidth": 0,
              "tickcolor": "rgb(36,36,36)",
              "ticklen": 8,
              "ticks": "outside",
              "tickwidth": 2
             }
            },
            "type": "parcoords"
           }
          ],
          "pie": [
           {
            "automargin": true,
            "type": "pie"
           }
          ],
          "scatter": [
           {
            "fillpattern": {
             "fillmode": "overlay",
             "size": 10,
             "solidity": 0.2
            },
            "type": "scatter"
           }
          ],
          "scatter3d": [
           {
            "line": {
             "colorbar": {
              "outlinewidth": 0,
              "tickcolor": "rgb(36,36,36)",
              "ticklen": 8,
              "ticks": "outside",
              "tickwidth": 2
             }
            },
            "marker": {
             "colorbar": {
              "outlinewidth": 0,
              "tickcolor": "rgb(36,36,36)",
              "ticklen": 8,
              "ticks": "outside",
              "tickwidth": 2
             }
            },
            "type": "scatter3d"
           }
          ],
          "scattercarpet": [
           {
            "marker": {
             "colorbar": {
              "outlinewidth": 0,
              "tickcolor": "rgb(36,36,36)",
              "ticklen": 8,
              "ticks": "outside",
              "tickwidth": 2
             }
            },
            "type": "scattercarpet"
           }
          ],
          "scattergeo": [
           {
            "marker": {
             "colorbar": {
              "outlinewidth": 0,
              "tickcolor": "rgb(36,36,36)",
              "ticklen": 8,
              "ticks": "outside",
              "tickwidth": 2
             }
            },
            "type": "scattergeo"
           }
          ],
          "scattergl": [
           {
            "marker": {
             "colorbar": {
              "outlinewidth": 0,
              "tickcolor": "rgb(36,36,36)",
              "ticklen": 8,
              "ticks": "outside",
              "tickwidth": 2
             }
            },
            "type": "scattergl"
           }
          ],
          "scattermap": [
           {
            "marker": {
             "colorbar": {
              "outlinewidth": 0,
              "tickcolor": "rgb(36,36,36)",
              "ticklen": 8,
              "ticks": "outside",
              "tickwidth": 2
             }
            },
            "type": "scattermap"
           }
          ],
          "scattermapbox": [
           {
            "marker": {
             "colorbar": {
              "outlinewidth": 0,
              "tickcolor": "rgb(36,36,36)",
              "ticklen": 8,
              "ticks": "outside",
              "tickwidth": 2
             }
            },
            "type": "scattermapbox"
           }
          ],
          "scatterpolar": [
           {
            "marker": {
             "colorbar": {
              "outlinewidth": 0,
              "tickcolor": "rgb(36,36,36)",
              "ticklen": 8,
              "ticks": "outside",
              "tickwidth": 2
             }
            },
            "type": "scatterpolar"
           }
          ],
          "scatterpolargl": [
           {
            "marker": {
             "colorbar": {
              "outlinewidth": 0,
              "tickcolor": "rgb(36,36,36)",
              "ticklen": 8,
              "ticks": "outside",
              "tickwidth": 2
             }
            },
            "type": "scatterpolargl"
           }
          ],
          "scatterternary": [
           {
            "marker": {
             "colorbar": {
              "outlinewidth": 0,
              "tickcolor": "rgb(36,36,36)",
              "ticklen": 8,
              "ticks": "outside",
              "tickwidth": 2
             }
            },
            "type": "scatterternary"
           }
          ],
          "surface": [
           {
            "colorbar": {
             "outlinewidth": 0,
             "tickcolor": "rgb(36,36,36)",
             "ticklen": 8,
             "ticks": "outside",
             "tickwidth": 2
            },
            "colorscale": [
             [
              0,
              "rgb(2,4,25)"
             ],
             [
              0.06274509803921569,
              "rgb(24,15,41)"
             ],
             [
              0.12549019607843137,
              "rgb(47,23,57)"
             ],
             [
              0.18823529411764706,
              "rgb(71,28,72)"
             ],
             [
              0.25098039215686274,
              "rgb(97,30,82)"
             ],
             [
              0.3137254901960784,
              "rgb(123,30,89)"
             ],
             [
              0.3764705882352941,
              "rgb(150,27,91)"
             ],
             [
              0.4392156862745098,
              "rgb(177,22,88)"
             ],
             [
              0.5019607843137255,
              "rgb(203,26,79)"
             ],
             [
              0.5647058823529412,
              "rgb(223,47,67)"
             ],
             [
              0.6274509803921569,
              "rgb(236,76,61)"
             ],
             [
              0.6901960784313725,
              "rgb(242,107,73)"
             ],
             [
              0.7529411764705882,
              "rgb(244,135,95)"
             ],
             [
              0.8156862745098039,
              "rgb(245,162,122)"
             ],
             [
              0.8784313725490196,
              "rgb(246,188,153)"
             ],
             [
              0.9411764705882353,
              "rgb(247,212,187)"
             ],
             [
              1,
              "rgb(250,234,220)"
             ]
            ],
            "type": "surface"
           }
          ],
          "table": [
           {
            "cells": {
             "fill": {
              "color": "rgb(231,231,240)"
             },
             "line": {
              "color": "white"
             }
            },
            "header": {
             "fill": {
              "color": "rgb(183,183,191)"
             },
             "line": {
              "color": "white"
             }
            },
            "type": "table"
           }
          ]
         },
         "layout": {
          "annotationdefaults": {
           "arrowcolor": "rgb(67,103,167)"
          },
          "autotypenumbers": "strict",
          "coloraxis": {
           "colorbar": {
            "outlinewidth": 0,
            "tickcolor": "rgb(36,36,36)",
            "ticklen": 8,
            "ticks": "outside",
            "tickwidth": 2
           }
          },
          "colorscale": {
           "sequential": [
            [
             0,
             "rgb(2,4,25)"
            ],
            [
             0.06274509803921569,
             "rgb(24,15,41)"
            ],
            [
             0.12549019607843137,
             "rgb(47,23,57)"
            ],
            [
             0.18823529411764706,
             "rgb(71,28,72)"
            ],
            [
             0.25098039215686274,
             "rgb(97,30,82)"
            ],
            [
             0.3137254901960784,
             "rgb(123,30,89)"
            ],
            [
             0.3764705882352941,
             "rgb(150,27,91)"
            ],
            [
             0.4392156862745098,
             "rgb(177,22,88)"
            ],
            [
             0.5019607843137255,
             "rgb(203,26,79)"
            ],
            [
             0.5647058823529412,
             "rgb(223,47,67)"
            ],
            [
             0.6274509803921569,
             "rgb(236,76,61)"
            ],
            [
             0.6901960784313725,
             "rgb(242,107,73)"
            ],
            [
             0.7529411764705882,
             "rgb(244,135,95)"
            ],
            [
             0.8156862745098039,
             "rgb(245,162,122)"
            ],
            [
             0.8784313725490196,
             "rgb(246,188,153)"
            ],
            [
             0.9411764705882353,
             "rgb(247,212,187)"
            ],
            [
             1,
             "rgb(250,234,220)"
            ]
           ],
           "sequentialminus": [
            [
             0,
             "rgb(2,4,25)"
            ],
            [
             0.06274509803921569,
             "rgb(24,15,41)"
            ],
            [
             0.12549019607843137,
             "rgb(47,23,57)"
            ],
            [
             0.18823529411764706,
             "rgb(71,28,72)"
            ],
            [
             0.25098039215686274,
             "rgb(97,30,82)"
            ],
            [
             0.3137254901960784,
             "rgb(123,30,89)"
            ],
            [
             0.3764705882352941,
             "rgb(150,27,91)"
            ],
            [
             0.4392156862745098,
             "rgb(177,22,88)"
            ],
            [
             0.5019607843137255,
             "rgb(203,26,79)"
            ],
            [
             0.5647058823529412,
             "rgb(223,47,67)"
            ],
            [
             0.6274509803921569,
             "rgb(236,76,61)"
            ],
            [
             0.6901960784313725,
             "rgb(242,107,73)"
            ],
            [
             0.7529411764705882,
             "rgb(244,135,95)"
            ],
            [
             0.8156862745098039,
             "rgb(245,162,122)"
            ],
            [
             0.8784313725490196,
             "rgb(246,188,153)"
            ],
            [
             0.9411764705882353,
             "rgb(247,212,187)"
            ],
            [
             1,
             "rgb(250,234,220)"
            ]
           ]
          },
          "colorway": [
           "rgb(76,114,176)",
           "rgb(221,132,82)",
           "rgb(85,168,104)",
           "rgb(196,78,82)",
           "rgb(129,114,179)",
           "rgb(147,120,96)",
           "rgb(218,139,195)",
           "rgb(140,140,140)",
           "rgb(204,185,116)",
           "rgb(100,181,205)"
          ],
          "font": {
           "color": "rgb(36,36,36)"
          },
          "geo": {
           "bgcolor": "white",
           "lakecolor": "white",
           "landcolor": "rgb(234,234,242)",
           "showlakes": true,
           "showland": true,
           "subunitcolor": "white"
          },
          "hoverlabel": {
           "align": "left"
          },
          "hovermode": "closest",
          "paper_bgcolor": "white",
          "plot_bgcolor": "rgb(234,234,242)",
          "polar": {
           "angularaxis": {
            "gridcolor": "white",
            "linecolor": "white",
            "showgrid": true,
            "ticks": ""
           },
           "bgcolor": "rgb(234,234,242)",
           "radialaxis": {
            "gridcolor": "white",
            "linecolor": "white",
            "showgrid": true,
            "ticks": ""
           }
          },
          "scene": {
           "xaxis": {
            "backgroundcolor": "rgb(234,234,242)",
            "gridcolor": "white",
            "gridwidth": 2,
            "linecolor": "white",
            "showbackground": true,
            "showgrid": true,
            "ticks": "",
            "zerolinecolor": "white"
           },
           "yaxis": {
            "backgroundcolor": "rgb(234,234,242)",
            "gridcolor": "white",
            "gridwidth": 2,
            "linecolor": "white",
            "showbackground": true,
            "showgrid": true,
            "ticks": "",
            "zerolinecolor": "white"
           },
           "zaxis": {
            "backgroundcolor": "rgb(234,234,242)",
            "gridcolor": "white",
            "gridwidth": 2,
            "linecolor": "white",
            "showbackground": true,
            "showgrid": true,
            "ticks": "",
            "zerolinecolor": "white"
           }
          },
          "shapedefaults": {
           "fillcolor": "rgb(67,103,167)",
           "line": {
            "width": 0
           },
           "opacity": 0.5
          },
          "ternary": {
           "aaxis": {
            "gridcolor": "white",
            "linecolor": "white",
            "showgrid": true,
            "ticks": ""
           },
           "baxis": {
            "gridcolor": "white",
            "linecolor": "white",
            "showgrid": true,
            "ticks": ""
           },
           "bgcolor": "rgb(234,234,242)",
           "caxis": {
            "gridcolor": "white",
            "linecolor": "white",
            "showgrid": true,
            "ticks": ""
           }
          },
          "xaxis": {
           "automargin": true,
           "gridcolor": "white",
           "linecolor": "white",
           "showgrid": true,
           "ticks": "",
           "title": {
            "standoff": 15
           },
           "zerolinecolor": "white"
          },
          "yaxis": {
           "automargin": true,
           "gridcolor": "white",
           "linecolor": "white",
           "showgrid": true,
           "ticks": "",
           "title": {
            "standoff": 15
           },
           "zerolinecolor": "white"
          }
         }
        },
        "title": {
         "text": "Books count rating"
        },
        "xaxis": {
         "anchor": "y",
         "categoryarray": [
          "genre fiction",
          "fiction",
          "nonfiction",
          "children"
         ],
         "categoryorder": "array",
         "domain": [
          0,
          1
         ],
         "title": {
          "text": "genre"
         }
        },
        "yaxis": {
         "anchor": "x",
         "domain": [
          0,
          1
         ],
         "title": {
          "text": "Book_ratings_count"
         }
        }
       }
      }
     },
     "metadata": {},
     "output_type": "display_data"
    },
    {
     "data": {
      "text/plain": [
       "<Figure size 1500x800 with 0 Axes>"
      ]
     },
     "metadata": {},
     "output_type": "display_data"
    }
   ],
   "source": [
    "plt.figure(figsize=(15,8))\n",
    "fig=px.box(data_frame=df , x='genre' , y='Book_ratings_count',title='Books count rating' ,color='genre', template='seaborn')\n",
    "fig.show()\n"
   ]
  },
  {
   "cell_type": "code",
   "execution_count": 19,
   "id": "39faaccf",
   "metadata": {},
   "outputs": [
    {
     "data": {
      "text/plain": [
       "<Axes: xlabel='sale price', ylabel='units sold'>"
      ]
     },
     "execution_count": 19,
     "metadata": {},
     "output_type": "execute_result"
    },
    {
     "data": {
      "image/png": "[encoded data removed]",
      "text/plain": [
       "<Figure size 640x480 with 1 Axes>"
      ]
     },
     "metadata": {},
     "output_type": "display_data"
    }
   ],
   "source": [
    "sns.scatterplot(data=df ,x='sale price' , y='units sold', hue='genre',palette='coolwarm')"
   ]
  },
  {
   "cell_type": "code",
   "execution_count": 20,
   "id": "77604d44",
   "metadata": {},
   "outputs": [
    {
     "data": {
      "application/vnd.plotly.v1+json": {
       "config": {
        "plotlyServerURL": "https://plot.ly"
       },
       "data": [
        {
         "hovertemplate": "genre=genre fiction<br>sale price=%{x}<br>units sold=%{y}<extra></extra>",
         "legendgroup": "genre fiction",
         "marker": {
          "color": "#636efa",
          "symbol": "circle"
         },
         "mode": "markers",
         "name": "genre fiction",
         "orientation": "v",
         "showlegend": true,
         "type": "scatter",
         "x": {
          "bdata": "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",
          "dtype": "f8"
         },
         "xaxis": "x",
         "y": {
          "bdata": "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",
          "dtype": "i4"
         },
         "yaxis": "y"
        },
        {
         "hovertemplate": "genre=fiction<br>sale price=%{x}<br>units sold=%{y}<extra></extra>",
         "legendgroup": "fiction",
         "marker": {
          "color": "#EF553B",
          "symbol": "circle"
         },
         "mode": "markers",
         "name": "fiction",
         "orientation": "v",
         "showlegend": true,
         "type": "scatter",
         "x": {
          "bdata": "AAAAAAAAHkD2KFyPwvUXQNejcD0K1/8/7FG4HoXrAUD2KFyPwvUgQFyPwvUoXBVA7FG4HoXrB0B7FK5H4fogQOxRuB6F6w9A7FG4HoXrB0DXo3A9Ctf/P65H4XoULiFA7FG4HoXrB0CuR+F6FK7vP/YoXI/C9RtA16NwPQrX/z97FK5H4folQFK4HoXrUQ5A7FG4HoXrD0CuR+F6FK7vP1K4HoXr0SVA9ihcj8L1E0CuR+F6FK7vP+xRuB6F6wdAexSuR+H6IUDsUbgehesPQPYoXI/C9RNAexSuR+H6I0DsUbgehesPQOxRuB6F6wdA7FG4HoXrB0DsUbgehesPQDMzMzMzMyJAexSuR+H6IUDXo3A9Ctf/P/YoXI/C9R9A9ihcj8L1H0D2KFyPwvUfQHsUrkfh+idA7FG4HoXrB0CuR+F6FK7vP9ejcD0K1/8/zczMzMxMJUCuR+F6FK7vP8P1KFyPwhZA16NwPQrX/z97FK5H4fojQK5H4XoULiFA7FG4HoXrD0D2KFyPwvUfQPYoXI/C9RtAexSuR+F6JUA9CtejcD0WQOxRuB6F6wdA",
          "dtype": "f8"
         },
         "xaxis": "x",
         "y": {
          "bdata": "fBUAABAOAACwBAAA1AMAAJMDAADoAQAAVQEAAEUBAAATAQAA7QAAAP4WAADjFgAA7xMAAKsSAABaEgAAPxIAAAkSAAAJEgAA7hEAANMRAADTEQAAnREAAIIRAADFEAAAqhAAALcPAABLDwAAFQ8AAJjfAADQyAAA+McAAHDFAABYlQAAmI4AAGCKAACwiAAAKIYAAGQLAABkCwAASQsAAC4LAADgEAAAuBAAALgQAACQEAAAbAAAAGwAAABrAAAAawAAAGsAAABrAAAAawAAAGoAAABqAAAA",
          "dtype": "i4"
         },
         "yaxis": "y"
        },
        {
         "hovertemplate": "genre=nonfiction<br>sale price=%{x}<br>units sold=%{y}<extra></extra>",
         "legendgroup": "nonfiction",
         "marker": {
          "color": "#00cc96",
          "symbol": "circle"
         },
         "mode": "markers",
         "name": "nonfiction",
         "orientation": "v",
         "showlegend": true,
         "type": "scatter",
         "x": {
          "bdata": "j8L1KFyPG0CuR+F6FK7vP9ejcD0K1/8/rkfhehSu7z/Xo3A9CtcQQNejcD0K1/8/rkfhehSu7z/2KFyPwvUZQHsUrkfh+idA16NwPQrX/z/2KFyPwvUbQNejcD0K1/8/rkfhehSu7z+uR+F6FK7vP+xRuB6F6wdA16NwPQrX/z8K16NwPQoRQK5H4XoUru8/zczMzMxMJUCuR+F6FK7vP/YoXI/C9RNAPQrXo3A9FkDsUbgehesHQPYoXI/C9RNAAAAAAAAAHkDhehSuR2EmQFK4HoXr0SVA16NwPQrX/z+uR+F6FK7vP+xRuB6F6wdA9ihcj8L1F0D2KFyPwvUbQNejcD0K1/8/7FG4HoXrB0CuR+F6FK7vP3sUrkfh+ilArkfhehSu7z/2KFyPwvUTQPYoXI/C9R9A16NwPQrX/z/NzMzMzEwlQFK4HoXr0SVAw/UoXI/CFkDhehSuR+EiQHsUrkfh+iNA7FG4HoXrB0CuR+F6FK7vP/YoXI/C9RdArkfhehSu7z97FK5H4foiQPYoXI/C9R5AexSuR+H6I0CkcD0K16MeQK5H4XoUru8/exSuR+H6JUDNzMzMzEwlQNejcD0K1/8/16NwPQrX/z/sUbgehesPQOxRuB6F6wdASOF6FK7HIkD2KFyPwvUTQClcj8L1KBFA9ihcj8L1H0B7FK5H4fojQHsUrkfh+iNAFK5H4XoUHkD2KFyPwvUfQAAAAAAAAB5ArkfhehSu7z+F61G4HgUiQBSuR+F6FBpArkfhehSu7z/Xo3A9Ctf/P65H4XoUru8/rkfhehSu7z+uR+F6FK4eQHsUrkfh+iNArkfhehSu7z+F61G4HoUVQOxRuB6F6wdA9ihcj8L1H0A9CtejcD0IQHsUrkfh+iFACtejcD0KEUCuR+F6FC4jQPYoXI/C9RtA16NwPQrX/z97FK5H4fopQPYoXI/C9RdA4XoUrkfhLED2KFyPwvUTQK5H4XoUru8/16NwPQrX/z/sUbgehesHQIXrUbgehRVA7FG4HoXrD0DXo3A9Ctf/P/YoXI/C9RtAexSuR+H6IUD2KFyPwvUhQArXo3A9ChtA7FG4HoXrB0DsUbgehesHQHsUrkfh+iVAFK5H4XoUJkD2KFyPwvUTQOxRuB6F6wdA9ihcj8L1H0CuR+F6FK7vP3sUrkfh+idA7FG4HoXrC0AzMzMzMzMaQHsUrkfh+iNAexSuR+H6JUCuR+F6FK7vP65H4XoUru8/rkfhehSu7z8AAAAAAIAnQK5H4XoULiFA16NwPQrX/z+PwvUoXI8hQAAAAAAAAARA9ihcj8L1HUDsUbgehesHQOxRuB6F6wdA9ihcj8L1F0AUrkfhehQeQOxRuB6F6w9AexSuR+H6J0CuR+F6FK7vP9ejcD0K1/8/MzMzMzMzIEDXo3A9Ctf/P65H4XoUru8/9ihcj8L1FkB7FK5H4folQHsUrkfh+iNArkfhehSu7z97FK5H4folQFK4HoXr0SVAUrgehetRDkBSuB6F61EXQOxRuB6F6w9ArkfhehSu7z+uR+F6FK7vPx+F61G4niFApHA9Ctej9D/sUbgehesPQOxRuB6F6wdArkfhehSu7z/sUbgehesHQHsUrkfh+idAUrgehetRDkBI4XoUrschQK5H4XoUru8/rkfhehQuKUB7FK5H4fojQNejcD0K1/8/rkfhehSu7z8=",
          "dtype": "f8"
         },
         "xaxis": "x",
         "y": {
          "bdata": "2A4AABIIAAAIBwAA+AYAAGgFAAD8BAAAFgQAAIQDAAB/AwAAOQMAAC8DAAAWAwAAowIAACYCAAAXAgAAAwIAAOMBAADFAQAApAEAAKABAACWAQAAlQEAAIIBAAB6AQAAcgEAAG0BAABmAQAAYwEAAF8BAABZAQAAOQEAADQBAAAtAQAAKAEAACMBAAAZAQAACgEAAO0AAADsAAAAeBgAAF0YAABCGAAAoBcAABkXAAD+FgAArRYAAAsWAADwFQAAMxUAABgVAABaEgAA0xEAANMRAACdEQAAnREAAEwRAAAWEQAAFhEAAPsQAADgEAAAjxAAAHQQAAB0EAAAPhAAAO0PAAC3DwAAZg8AAGYPAAAVDwAA8NIAAJDPAABYywAAEMIAAGDAAAAovAAAsKMAAACiAADglwAAMJYAAPiRAABIkAAAcI8AAJiOAAA4iwAAOIsAADiLAACwiAAA2IcAAKCDAADwgQAAGIEAAECAAABofwAAkH4AALh9AAAwewAAWHoAAIB5AABwdAAA6HEAABBxAAA4cAAAfwsAAGQLAABkCwAAZAsAAGQLAABkCwAAZAsAAGQLAABJCwAASQsAAEkLAABJCwAASQsAAEkLAAAuCwAALgsAAC4LAAAuCwAALgsAAC4LAAAuCwAALgsAAIARAACAEQAAgBEAAFgRAABYEQAAMBEAADARAAAwEQAAMBEAADARAAAIEQAACBEAAAgRAAAIEQAA4BAAAOAQAADgEAAAuBAAALgQAAC4EAAAuBAAALgQAACQEAAAbAAAAGwAAABsAAAAawAAAGsAAABrAAAAawAAAGsAAABrAAAAagAAAGoAAABqAAAAagAAAA==",
          "dtype": "i4"
         },
         "yaxis": "y"
        },
        {
         "hovertemplate": "genre=children<br>sale price=%{x}<br>units sold=%{y}<extra></extra>",
         "legendgroup": "children",
         "marker": {
          "color": "#ab63fa",
          "symbol": "circle"
         },
         "mode": "markers",
         "name": "children",
         "orientation": "v",
         "showlegend": true,
         "type": "scatter",
         "x": {
          "bdata": "j8L1KFyPHEBI4XoUrkcaQFyPwvUoXB5AKVyPwvUoI0B7FK5H4fojQNejcD0K1wNAw/UoXI/CG0AzMzMzMzMWQDMzMzMzMxZAj8L1KFyPHUCamZmZmZkYQPYoXI/C9RdA16NwPQrX/z/2KFyPwvURQAAAAAAAABJA",
          "dtype": "f8"
         },
         "xaxis": "x",
         "y": {
          "bdata": "BwEAAPkAAACRFAAAtw8AAEsPAADAwwAAoLkAAMCoAADojAAAiIkAAACHAAD4dgAASQsAALgQAABqAAAA",
          "dtype": "i4"
         },
         "yaxis": "y"
        }
       ],
       "layout": {
        "legend": {
         "title": {
          "text": "genre"
         },
         "tracegroupgap": 0
        },
        "template": {
         "data": {
          "bar": [
           {
            "error_x": {
             "color": "#2a3f5f"
            },
            "error_y": {
             "color": "#2a3f5f"
            },
            "marker": {
             "line": {
              "color": "#E5ECF6",
              "width": 0.5
             },
             "pattern": {
              "fillmode": "overlay",
              "size": 10,
              "solidity": 0.2
             }
            },
            "type": "bar"
           }
          ],
          "barpolar": [
           {
            "marker": {
             "line": {
              "color": "#E5ECF6",
              "width": 0.5
             },
             "pattern": {
              "fillmode": "overlay",
              "size": 10,
              "solidity": 0.2
             }
            },
            "type": "barpolar"
           }
          ],
          "carpet": [
           {
            "aaxis": {
             "endlinecolor": "#2a3f5f",
             "gridcolor": "white",
             "linecolor": "white",
             "minorgridcolor": "white",
             "startlinecolor": "#2a3f5f"
            },
            "baxis": {
             "endlinecolor": "#2a3f5f",
             "gridcolor": "white",
             "linecolor": "white",
             "minorgridcolor": "white",
             "startlinecolor": "#2a3f5f"
            },
            "type": "carpet"
           }
          ],
          "choropleth": [
           {
            "colorbar": {
             "outlinewidth": 0,
             "ticks": ""
            },
            "type": "choropleth"
           }
          ],
          "contour": [
           {
            "colorbar": {
             "outlinewidth": 0,
             "ticks": ""
            },
            "colorscale": [
             [
              0,
              "#0d0887"
             ],
             [
              0.1111111111111111,
              "#46039f"
             ],
             [
              0.2222222222222222,
              "#7201a8"
             ],
             [
              0.3333333333333333,
              "#9c179e"
             ],
             [
              0.4444444444444444,
              "#bd3786"
             ],
             [
              0.5555555555555556,
              "#d8576b"
             ],
             [
              0.6666666666666666,
              "#ed7953"
             ],
             [
              0.7777777777777778,
              "#fb9f3a"
             ],
             [
              0.8888888888888888,
              "#fdca26"
             ],
             [
              1,
              "#f0f921"
             ]
            ],
            "type": "contour"
           }
          ],
          "contourcarpet": [
           {
            "colorbar": {
             "outlinewidth": 0,
             "ticks": ""
            },
            "type": "contourcarpet"
           }
          ],
          "heatmap": [
           {
            "colorbar": {
             "outlinewidth": 0,
             "ticks": ""
            },
            "colorscale": [
             [
              0,
              "#0d0887"
             ],
             [
              0.1111111111111111,
              "#46039f"
             ],
             [
              0.2222222222222222,
              "#7201a8"
             ],
             [
              0.3333333333333333,
              "#9c179e"
             ],
             [
              0.4444444444444444,
              "#bd3786"
             ],
             [
              0.5555555555555556,
              "#d8576b"
             ],
             [
              0.6666666666666666,
              "#ed7953"
             ],
             [
              0.7777777777777778,
              "#fb9f3a"
             ],
             [
              0.8888888888888888,
              "#fdca26"
             ],
             [
              1,
              "#f0f921"
             ]
            ],
            "type": "heatmap"
           }
          ],
          "histogram": [
           {
            "marker": {
             "pattern": {
              "fillmode": "overlay",
              "size": 10,
              "solidity": 0.2
             }
            },
            "type": "histogram"
           }
          ],
          "histogram2d": [
           {
            "colorbar": {
             "outlinewidth": 0,
             "ticks": ""
            },
            "colorscale": [
             [
              0,
              "#0d0887"
             ],
             [
              0.1111111111111111,
              "#46039f"
             ],
             [
              0.2222222222222222,
              "#7201a8"
             ],
             [
              0.3333333333333333,
              "#9c179e"
             ],
             [
              0.4444444444444444,
              "#bd3786"
             ],
             [
              0.5555555555555556,
              "#d8576b"
             ],
             [
              0.6666666666666666,
              "#ed7953"
             ],
             [
              0.7777777777777778,
              "#fb9f3a"
             ],
             [
              0.8888888888888888,
              "#fdca26"
             ],
             [
              1,
              "#f0f921"
             ]
            ],
            "type": "histogram2d"
           }
          ],
          "histogram2dcontour": [
           {
            "colorbar": {
             "outlinewidth": 0,
             "ticks": ""
            },
            "colorscale": [
             [
              0,
              "#0d0887"
             ],
             [
              0.1111111111111111,
              "#46039f"
             ],
             [
              0.2222222222222222,
              "#7201a8"
             ],
             [
              0.3333333333333333,
              "#9c179e"
             ],
             [
              0.4444444444444444,
              "#bd3786"
             ],
             [
              0.5555555555555556,
              "#d8576b"
             ],
             [
              0.6666666666666666,
              "#ed7953"
             ],
             [
              0.7777777777777778,
              "#fb9f3a"
             ],
             [
              0.8888888888888888,
              "#fdca26"
             ],
             [
              1,
              "#f0f921"
             ]
            ],
            "type": "histogram2dcontour"
           }
          ],
          "mesh3d": [
           {
            "colorbar": {
             "outlinewidth": 0,
             "ticks": ""
            },
            "type": "mesh3d"
           }
          ],
          "parcoords": [
           {
            "line": {
             "colorbar": {
              "outlinewidth": 0,
              "ticks": ""
             }
            },
            "type": "parcoords"
           }
          ],
          "pie": [
           {
            "automargin": true,
            "type": "pie"
           }
          ],
          "scatter": [
           {
            "fillpattern": {
             "fillmode": "overlay",
             "size": 10,
             "solidity": 0.2
            },
            "type": "scatter"
           }
          ],
          "scatter3d": [
           {
            "line": {
             "colorbar": {
              "outlinewidth": 0,
              "ticks": ""
             }
            },
            "marker": {
             "colorbar": {
              "outlinewidth": 0,
              "ticks": ""
             }
            },
            "type": "scatter3d"
           }
          ],
          "scattercarpet": [
           {
            "marker": {
             "colorbar": {
              "outlinewidth": 0,
              "ticks": ""
             }
            },
            "type": "scattercarpet"
           }
          ],
          "scattergeo": [
           {
            "marker": {
             "colorbar": {
              "outlinewidth": 0,
              "ticks": ""
             }
            },
            "type": "scattergeo"
           }
          ],
          "scattergl": [
           {
            "marker": {
             "colorbar": {
              "outlinewidth": 0,
              "ticks": ""
             }
            },
            "type": "scattergl"
           }
          ],
          "scattermap": [
           {
            "marker": {
             "colorbar": {
              "outlinewidth": 0,
              "ticks": ""
             }
            },
            "type": "scattermap"
           }
          ],
          "scattermapbox": [
           {
            "marker": {
             "colorbar": {
              "outlinewidth": 0,
              "ticks": ""
             }
            },
            "type": "scattermapbox"
           }
          ],
          "scatterpolar": [
           {
            "marker": {
             "colorbar": {
              "outlinewidth": 0,
              "ticks": ""
             }
            },
            "type": "scatterpolar"
           }
          ],
          "scatterpolargl": [
           {
            "marker": {
             "colorbar": {
              "outlinewidth": 0,
              "ticks": ""
             }
            },
            "type": "scatterpolargl"
           }
          ],
          "scatterternary": [
           {
            "marker": {
             "colorbar": {
              "outlinewidth": 0,
              "ticks": ""
             }
            },
            "type": "scatterternary"
           }
          ],
          "surface": [
           {
            "colorbar": {
             "outlinewidth": 0,
             "ticks": ""
            },
            "colorscale": [
             [
              0,
              "#0d0887"
             ],
             [
              0.1111111111111111,
              "#46039f"
             ],
             [
              0.2222222222222222,
              "#7201a8"
             ],
             [
              0.3333333333333333,
              "#9c179e"
             ],
             [
              0.4444444444444444,
              "#bd3786"
             ],
             [
              0.5555555555555556,
              "#d8576b"
             ],
             [
              0.6666666666666666,
              "#ed7953"
             ],
             [
              0.7777777777777778,
              "#fb9f3a"
             ],
             [
              0.8888888888888888,
              "#fdca26"
             ],
             [
              1,
              "#f0f921"
             ]
            ],
            "type": "surface"
           }
          ],
          "table": [
           {
            "cells": {
             "fill": {
              "color": "#EBF0F8"
             },
             "line": {
              "color": "white"
             }
            },
            "header": {
             "fill": {
              "color": "#C8D4E3"
             },
             "line": {
              "color": "white"
             }
            },
            "type": "table"
           }
          ]
         },
         "layout": {
          "annotationdefaults": {
           "arrowcolor": "#2a3f5f",
           "arrowhead": 0,
           "arrowwidth": 1
          },
          "autotypenumbers": "strict",
          "coloraxis": {
           "colorbar": {
            "outlinewidth": 0,
            "ticks": ""
           }
          },
          "colorscale": {
           "diverging": [
            [
             0,
             "#8e0152"
            ],
            [
             0.1,
             "#c51b7d"
            ],
            [
             0.2,
             "#de77ae"
            ],
            [
             0.3,
             "#f1b6da"
            ],
            [
             0.4,
             "#fde0ef"
            ],
            [
             0.5,
             "#f7f7f7"
            ],
            [
             0.6,
             "#e6f5d0"
            ],
            [
             0.7,
             "#b8e186"
            ],
            [
             0.8,
             "#7fbc41"
            ],
            [
             0.9,
             "#4d9221"
            ],
            [
             1,
             "#276419"
            ]
           ],
           "sequential": [
            [
             0,
             "#0d0887"
            ],
            [
             0.1111111111111111,
             "#46039f"
            ],
            [
             0.2222222222222222,
             "#7201a8"
            ],
            [
             0.3333333333333333,
             "#9c179e"
            ],
            [
             0.4444444444444444,
             "#bd3786"
            ],
            [
             0.5555555555555556,
             "#d8576b"
            ],
            [
             0.6666666666666666,
             "#ed7953"
            ],
            [
             0.7777777777777778,
             "#fb9f3a"
            ],
            [
             0.8888888888888888,
             "#fdca26"
            ],
            [
             1,
             "#f0f921"
            ]
           ],
           "sequentialminus": [
            [
             0,
             "#0d0887"
            ],
            [
             0.1111111111111111,
             "#46039f"
            ],
            [
             0.2222222222222222,
             "#7201a8"
            ],
            [
             0.3333333333333333,
             "#9c179e"
            ],
            [
             0.4444444444444444,
             "#bd3786"
            ],
            [
             0.5555555555555556,
             "#d8576b"
            ],
            [
             0.6666666666666666,
             "#ed7953"
            ],
            [
             0.7777777777777778,
             "#fb9f3a"
            ],
            [
             0.8888888888888888,
             "#fdca26"
            ],
            [
             1,
             "#f0f921"
            ]
           ]
          },
          "colorway": [
           "#636efa",
           "#EF553B",
           "#00cc96",
           "#ab63fa",
           "#FFA15A",
           "#19d3f3",
           "#FF6692",
           "#B6E880",
           "#FF97FF",
           "#FECB52"
          ],
          "font": {
           "color": "#2a3f5f"
          },
          "geo": {
           "bgcolor": "white",
           "lakecolor": "white",
           "landcolor": "#E5ECF6",
           "showlakes": true,
           "showland": true,
           "subunitcolor": "white"
          },
          "hoverlabel": {
           "align": "left"
          },
          "hovermode": "closest",
          "mapbox": {
           "style": "light"
          },
          "paper_bgcolor": "white",
          "plot_bgcolor": "#E5ECF6",
          "polar": {
           "angularaxis": {
            "gridcolor": "white",
            "linecolor": "white",
            "ticks": ""
           },
           "bgcolor": "#E5ECF6",
           "radialaxis": {
            "gridcolor": "white",
            "linecolor": "white",
            "ticks": ""
           }
          },
          "scene": {
           "xaxis": {
            "backgroundcolor": "#E5ECF6",
            "gridcolor": "white",
            "gridwidth": 2,
            "linecolor": "white",
            "showbackground": true,
            "ticks": "",
            "zerolinecolor": "white"
           },
           "yaxis": {
            "backgroundcolor": "#E5ECF6",
            "gridcolor": "white",
            "gridwidth": 2,
            "linecolor": "white",
            "showbackground": true,
            "ticks": "",
            "zerolinecolor": "white"
           },
           "zaxis": {
            "backgroundcolor": "#E5ECF6",
            "gridcolor": "white",
            "gridwidth": 2,
            "linecolor": "white",
            "showbackground": true,
            "ticks": "",
            "zerolinecolor": "white"
           }
          },
          "shapedefaults": {
           "line": {
            "color": "#2a3f5f"
           }
          },
          "ternary": {
           "aaxis": {
            "gridcolor": "white",
            "linecolor": "white",
            "ticks": ""
           },
           "baxis": {
            "gridcolor": "white",
            "linecolor": "white",
            "ticks": ""
           },
           "bgcolor": "#E5ECF6",
           "caxis": {
            "gridcolor": "white",
            "linecolor": "white",
            "ticks": ""
           }
          },
          "title": {
           "x": 0.05
          },
          "xaxis": {
           "automargin": true,
           "gridcolor": "white",
           "linecolor": "white",
           "ticks": "",
           "title": {
            "standoff": 15
           },
           "zerolinecolor": "white",
           "zerolinewidth": 2
          },
          "yaxis": {
           "automargin": true,
           "gridcolor": "white",
           "linecolor": "white",
           "ticks": "",
           "title": {
            "standoff": 15
           },
           "zerolinecolor": "white",
           "zerolinewidth": 2
          }
         }
        },
        "title": {
         "text": "scatter of sale price"
        },
        "xaxis": {
         "anchor": "y",
         "domain": [
          0,
          1
         ],
         "title": {
          "text": "sale price"
         }
        },
        "yaxis": {
         "anchor": "x",
         "domain": [
          0,
          1
         ],
         "title": {
          "text": "units sold"
         }
        }
       }
      }
     },
     "metadata": {},
     "output_type": "display_data"
    }
   ],
   "source": [
    "px.scatter(data_frame=df , x='sale price' , y='units sold', color='genre', title='scatter of sale price')"
   ]
  },
  {
   "cell_type": "markdown",
   "id": "d1bd4cf1",
   "metadata": {},
   "source": [
    "<h3 style='color:#c1121f'>note from scatter</h3>\n",
    "\n",
    "- **when price sale is lower -> increse the number of sold price.**"
   ]
  },
  {
   "cell_type": "markdown",
   "id": "e497e186-0dca-42b7-b012-5f7de0d7a5c8",
   "metadata": {},
   "source": [
    "**Top 10 ranked book**"
   ]
  },
  {
   "cell_type": "code",
   "execution_count": 21,
   "id": "829ee1e1-42a8-435a-a73e-8d8120321204",
   "metadata": {},
   "outputs": [],
   "source": [
    "top_10_sales = df.loc[df['sales rank'] <=10]"
   ]
  },
  {
   "cell_type": "code",
   "execution_count": 22,
   "id": "94217cf0-0d57-4f40-9812-d2dde49e9057",
   "metadata": {},
   "outputs": [
    {
     "data": {
      "application/vnd.plotly.v1+json": {
       "config": {
        "plotlyServerURL": "https://plot.ly"
       },
       "data": [
        {
         "bingroup": "y",
         "histfunc": "sum",
         "hovertemplate": "Author=Unknown, Seamus Heaney<br>sum of units sold=%{x}<br>Book Name=%{y}<extra></extra>",
         "legendgroup": "Unknown, Seamus Heaney",
         "marker": {
          "color": "#636efa",
          "pattern": {
           "shape": ""
          }
         },
         "name": "Unknown, Seamus Heaney",
         "orientation": "h",
         "showlegend": true,
         "type": "histogram",
         "x": {
          "bdata": "WBs=",
          "dtype": "i2"
         },
         "xaxis": "x",
         "y": [
          "Beowulf"
         ],
         "yaxis": "y"
        },
        {
         "bingroup": "y",
         "histfunc": "sum",
         "hovertemplate": "Author=Frank Miller, David Mazzucchelli, Richmond Lewis, Dennis O'Neil<br>sum of units sold=%{x}<br>Book Name=%{y}<extra></extra>",
         "legendgroup": "Frank Miller, David Mazzucchelli, Richmond Lewis, Dennis O'Neil",
         "marker": {
          "color": "#EF553B",
          "pattern": {
           "shape": ""
          }
         },
         "name": "Frank Miller, David Mazzucchelli, Richmond Lewis, Dennis O'Neil",
         "orientation": "h",
         "showlegend": true,
         "type": "histogram",
         "x": {
          "bdata": "ahg=",
          "dtype": "i2"
         },
         "xaxis": "x",
         "y": [
          "Batman: Year One"
         ],
         "yaxis": "y"
        },
        {
         "bingroup": "y",
         "histfunc": "sum",
         "hovertemplate": "Author=Harper Lee<br>sum of units sold=%{x}<br>Book Name=%{y}<extra></extra>",
         "legendgroup": "Harper Lee",
         "marker": {
          "color": "#00cc96",
          "pattern": {
           "shape": ""
          }
         },
         "name": "Harper Lee",
         "orientation": "h",
         "showlegend": true,
         "type": "histogram",
         "x": {
          "bdata": "fBU=",
          "dtype": "i2"
         },
         "xaxis": "x",
         "y": [
          "Go Set a Watchman"
         ],
         "yaxis": "y"
        },
        {
         "bingroup": "y",
         "histfunc": "sum",
         "hovertemplate": "Author=David Sedaris<br>sum of units sold=%{x}<br>Book Name=%{y}<extra></extra>",
         "legendgroup": "David Sedaris",
         "marker": {
          "color": "#ab63fa",
          "pattern": {
           "shape": ""
          }
         },
         "name": "David Sedaris",
         "orientation": "h",
         "showlegend": true,
         "type": "histogram",
         "x": {
          "bdata": "fBU=",
          "dtype": "i2"
         },
         "xaxis": "x",
         "y": [
          "When You Are Engulfed in Flames"
         ],
         "yaxis": "y"
        },
        {
         "bingroup": "y",
         "histfunc": "sum",
         "hovertemplate": "Author=Laini Taylor<br>sum of units sold=%{x}<br>Book Name=%{y}<extra></extra>",
         "legendgroup": "Laini Taylor",
         "marker": {
          "color": "#FFA15A",
          "pattern": {
           "shape": ""
          }
         },
         "name": "Laini Taylor",
         "orientation": "h",
         "showlegend": true,
         "type": "histogram",
         "x": {
          "bdata": "jhI=",
          "dtype": "i2"
         },
         "xaxis": "x",
         "y": [
          "Daughter of Smoke & Bone"
         ],
         "yaxis": "y"
        },
        {
         "bingroup": "y",
         "histfunc": "sum",
         "hovertemplate": "Author=Victoria Aveyard<br>sum of units sold=%{x}<br>Book Name=%{y}<extra></extra>",
         "legendgroup": "Victoria Aveyard",
         "marker": {
          "color": "#19d3f3",
          "pattern": {
           "shape": ""
          }
         },
         "name": "Victoria Aveyard",
         "orientation": "h",
         "showlegend": true,
         "type": "histogram",
         "x": {
          "bdata": "oA8=",
          "dtype": "i2"
         },
         "xaxis": "x",
         "y": [
          "Red Queen"
         ],
         "yaxis": "y"
        },
        {
         "bingroup": "y",
         "histfunc": "sum",
         "hovertemplate": "Author=Charles Duhigg<br>sum of units sold=%{x}<br>Book Name=%{y}<extra></extra>",
         "legendgroup": "Charles Duhigg",
         "marker": {
          "color": "#FF6692",
          "pattern": {
           "shape": ""
          }
         },
         "name": "Charles Duhigg",
         "orientation": "h",
         "showlegend": true,
         "type": "histogram",
         "x": {
          "bdata": "XQ8=",
          "dtype": "i2"
         },
         "xaxis": "x",
         "y": [
          "The Power of Habit"
         ],
         "yaxis": "y"
        },
        {
         "bingroup": "y",
         "histfunc": "sum",
         "hovertemplate": "Author=John Berendt<br>sum of units sold=%{x}<br>Book Name=%{y}<extra></extra>",
         "legendgroup": "John Berendt",
         "marker": {
          "color": "#B6E880",
          "pattern": {
           "shape": ""
          }
         },
         "name": "John Berendt",
         "orientation": "h",
         "showlegend": true,
         "type": "histogram",
         "x": {
          "bdata": "2A4=",
          "dtype": "i2"
         },
         "xaxis": "x",
         "y": [
          "Midnight in the Garden of Good and Evil"
         ],
         "yaxis": "y"
        },
        {
         "bingroup": "y",
         "histfunc": "sum",
         "hovertemplate": "Author=Colleen Hoover<br>sum of units sold=%{x}<br>Book Name=%{y}<extra></extra>",
         "legendgroup": "Colleen Hoover",
         "marker": {
          "color": "#FF97FF",
          "pattern": {
           "shape": ""
          }
         },
         "name": "Colleen Hoover",
         "orientation": "h",
         "showlegend": true,
         "type": "histogram",
         "x": {
          "bdata": "lQ4=",
          "dtype": "i2"
         },
         "xaxis": "x",
         "y": [
          "Hopeless"
         ],
         "yaxis": "y"
        },
        {
         "bingroup": "y",
         "histfunc": "sum",
         "hovertemplate": "Author=Frances Hodgson Burnett, Nancy Bond<br>sum of units sold=%{x}<br>Book Name=%{y}<extra></extra>",
         "legendgroup": "Frances Hodgson Burnett, Nancy Bond",
         "marker": {
          "color": "#FECB52",
          "pattern": {
           "shape": ""
          }
         },
         "name": "Frances Hodgson Burnett, Nancy Bond",
         "orientation": "h",
         "showlegend": true,
         "type": "histogram",
         "x": {
          "bdata": "Ug4=",
          "dtype": "i2"
         },
         "xaxis": "x",
         "y": [
          "A Little Princess"
         ],
         "yaxis": "y"
        }
       ],
       "layout": {
        "barmode": "relative",
        "legend": {
         "title": {
          "text": "Author"
         },
         "tracegroupgap": 0
        },
        "template": {
         "data": {
          "bar": [
           {
            "error_x": {
             "color": "#2a3f5f"
            },
            "error_y": {
             "color": "#2a3f5f"
            },
            "marker": {
             "line": {
              "color": "#E5ECF6",
              "width": 0.5
             },
             "pattern": {
              "fillmode": "overlay",
              "size": 10,
              "solidity": 0.2
             }
            },
            "type": "bar"
           }
          ],
          "barpolar": [
           {
            "marker": {
             "line": {
              "color": "#E5ECF6",
              "width": 0.5
             },
             "pattern": {
              "fillmode": "overlay",
              "size": 10,
              "solidity": 0.2
             }
            },
            "type": "barpolar"
           }
          ],
          "carpet": [
           {
            "aaxis": {
             "endlinecolor": "#2a3f5f",
             "gridcolor": "white",
             "linecolor": "white",
             "minorgridcolor": "white",
             "startlinecolor": "#2a3f5f"
            },
            "baxis": {
             "endlinecolor": "#2a3f5f",
             "gridcolor": "white",
             "linecolor": "white",
             "minorgridcolor": "white",
             "startlinecolor": "#2a3f5f"
            },
            "type": "carpet"
           }
          ],
          "choropleth": [
           {
            "colorbar": {
             "outlinewidth": 0,
             "ticks": ""
            },
            "type": "choropleth"
           }
          ],
          "contour": [
           {
            "colorbar": {
             "outlinewidth": 0,
             "ticks": ""
            },
            "colorscale": [
             [
              0,
              "#0d0887"
             ],
             [
              0.1111111111111111,
              "#46039f"
             ],
             [
              0.2222222222222222,
              "#7201a8"
             ],
             [
              0.3333333333333333,
              "#9c179e"
             ],
             [
              0.4444444444444444,
              "#bd3786"
             ],
             [
              0.5555555555555556,
              "#d8576b"
             ],
             [
              0.6666666666666666,
              "#ed7953"
             ],
             [
              0.7777777777777778,
              "#fb9f3a"
             ],
             [
              0.8888888888888888,
              "#fdca26"
             ],
             [
              1,
              "#f0f921"
             ]
            ],
            "type": "contour"
           }
          ],
          "contourcarpet": [
           {
            "colorbar": {
             "outlinewidth": 0,
             "ticks": ""
            },
            "type": "contourcarpet"
           }
          ],
          "heatmap": [
           {
            "colorbar": {
             "outlinewidth": 0,
             "ticks": ""
            },
            "colorscale": [
             [
              0,
              "#0d0887"
             ],
             [
              0.1111111111111111,
              "#46039f"
             ],
             [
              0.2222222222222222,
              "#7201a8"
             ],
             [
              0.3333333333333333,
              "#9c179e"
             ],
             [
              0.4444444444444444,
              "#bd3786"
             ],
             [
              0.5555555555555556,
              "#d8576b"
             ],
             [
              0.6666666666666666,
              "#ed7953"
             ],
             [
              0.7777777777777778,
              "#fb9f3a"
             ],
             [
              0.8888888888888888,
              "#fdca26"
             ],
             [
              1,
              "#f0f921"
             ]
            ],
            "type": "heatmap"
           }
          ],
          "histogram": [
           {
            "marker": {
             "pattern": {
              "fillmode": "overlay",
              "size": 10,
              "solidity": 0.2
             }
            },
            "type": "histogram"
           }
          ],
          "histogram2d": [
           {
            "colorbar": {
             "outlinewidth": 0,
             "ticks": ""
            },
            "colorscale": [
             [
              0,
              "#0d0887"
             ],
             [
              0.1111111111111111,
              "#46039f"
             ],
             [
              0.2222222222222222,
              "#7201a8"
             ],
             [
              0.3333333333333333,
              "#9c179e"
             ],
             [
              0.4444444444444444,
              "#bd3786"
             ],
             [
              0.5555555555555556,
              "#d8576b"
             ],
             [
              0.6666666666666666,
              "#ed7953"
             ],
             [
              0.7777777777777778,
              "#fb9f3a"
             ],
             [
              0.8888888888888888,
              "#fdca26"
             ],
             [
              1,
              "#f0f921"
             ]
            ],
            "type": "histogram2d"
           }
          ],
          "histogram2dcontour": [
           {
            "colorbar": {
             "outlinewidth": 0,
             "ticks": ""
            },
            "colorscale": [
             [
              0,
              "#0d0887"
             ],
             [
              0.1111111111111111,
              "#46039f"
             ],
             [
              0.2222222222222222,
              "#7201a8"
             ],
             [
              0.3333333333333333,
              "#9c179e"
             ],
             [
              0.4444444444444444,
              "#bd3786"
             ],
             [
              0.5555555555555556,
              "#d8576b"
             ],
             [
              0.6666666666666666,
              "#ed7953"
             ],
             [
              0.7777777777777778,
              "#fb9f3a"
             ],
             [
              0.8888888888888888,
              "#fdca26"
             ],
             [
              1,
              "#f0f921"
             ]
            ],
            "type": "histogram2dcontour"
           }
          ],
          "mesh3d": [
           {
            "colorbar": {
             "outlinewidth": 0,
             "ticks": ""
            },
            "type": "mesh3d"
           }
          ],
          "parcoords": [
           {
            "line": {
             "colorbar": {
              "outlinewidth": 0,
              "ticks": ""
             }
            },
            "type": "parcoords"
           }
          ],
          "pie": [
           {
            "automargin": true,
            "type": "pie"
           }
          ],
          "scatter": [
           {
            "fillpattern": {
             "fillmode": "overlay",
             "size": 10,
             "solidity": 0.2
            },
            "type": "scatter"
           }
          ],
          "scatter3d": [
           {
            "line": {
             "colorbar": {
              "outlinewidth": 0,
              "ticks": ""
             }
            },
            "marker": {
             "colorbar": {
              "outlinewidth": 0,
              "ticks": ""
             }
            },
            "type": "scatter3d"
           }
          ],
          "scattercarpet": [
           {
            "marker": {
             "colorbar": {
              "outlinewidth": 0,
              "ticks": ""
             }
            },
            "type": "scattercarpet"
           }
          ],
          "scattergeo": [
           {
            "marker": {
             "colorbar": {
              "outlinewidth": 0,
              "ticks": ""
             }
            },
            "type": "scattergeo"
           }
          ],
          "scattergl": [
           {
            "marker": {
             "colorbar": {
              "outlinewidth": 0,
              "ticks": ""
             }
            },
            "type": "scattergl"
           }
          ],
          "scattermap": [
           {
            "marker": {
             "colorbar": {
              "outlinewidth": 0,
              "ticks": ""
             }
            },
            "type": "scattermap"
           }
          ],
          "scattermapbox": [
           {
            "marker": {
             "colorbar": {
              "outlinewidth": 0,
              "ticks": ""
             }
            },
            "type": "scattermapbox"
           }
          ],
          "scatterpolar": [
           {
            "marker": {
             "colorbar": {
              "outlinewidth": 0,
              "ticks": ""
             }
            },
            "type": "scatterpolar"
           }
          ],
          "scatterpolargl": [
           {
            "marker": {
             "colorbar": {
              "outlinewidth": 0,
              "ticks": ""
             }
            },
            "type": "scatterpolargl"
           }
          ],
          "scatterternary": [
           {
            "marker": {
             "colorbar": {
              "outlinewidth": 0,
              "ticks": ""
             }
            },
            "type": "scatterternary"
           }
          ],
          "surface": [
           {
            "colorbar": {
             "outlinewidth": 0,
             "ticks": ""
            },
            "colorscale": [
             [
              0,
              "#0d0887"
             ],
             [
              0.1111111111111111,
              "#46039f"
             ],
             [
              0.2222222222222222,
              "#7201a8"
             ],
             [
              0.3333333333333333,
              "#9c179e"
             ],
             [
              0.4444444444444444,
              "#bd3786"
             ],
             [
              0.5555555555555556,
              "#d8576b"
             ],
             [
              0.6666666666666666,
              "#ed7953"
             ],
             [
              0.7777777777777778,
              "#fb9f3a"
             ],
             [
              0.8888888888888888,
              "#fdca26"
             ],
             [
              1,
              "#f0f921"
             ]
            ],
            "type": "surface"
           }
          ],
          "table": [
           {
            "cells": {
             "fill": {
              "color": "#EBF0F8"
             },
             "line": {
              "color": "white"
             }
            },
            "header": {
             "fill": {
              "color": "#C8D4E3"
             },
             "line": {
              "color": "white"
             }
            },
            "type": "table"
           }
          ]
         },
         "layout": {
          "annotationdefaults": {
           "arrowcolor": "#2a3f5f",
           "arrowhead": 0,
           "arrowwidth": 1
          },
          "autotypenumbers": "strict",
          "coloraxis": {
           "colorbar": {
            "outlinewidth": 0,
            "ticks": ""
           }
          },
          "colorscale": {
           "diverging": [
            [
             0,
             "#8e0152"
            ],
            [
             0.1,
             "#c51b7d"
            ],
            [
             0.2,
             "#de77ae"
            ],
            [
             0.3,
             "#f1b6da"
            ],
            [
             0.4,
             "#fde0ef"
            ],
            [
             0.5,
             "#f7f7f7"
            ],
            [
             0.6,
             "#e6f5d0"
            ],
            [
             0.7,
             "#b8e186"
            ],
            [
             0.8,
             "#7fbc41"
            ],
            [
             0.9,
             "#4d9221"
            ],
            [
             1,
             "#276419"
            ]
           ],
           "sequential": [
            [
             0,
             "#0d0887"
            ],
            [
             0.1111111111111111,
             "#46039f"
            ],
            [
             0.2222222222222222,
             "#7201a8"
            ],
            [
             0.3333333333333333,
             "#9c179e"
            ],
            [
             0.4444444444444444,
             "#bd3786"
            ],
            [
             0.5555555555555556,
             "#d8576b"
            ],
            [
             0.6666666666666666,
             "#ed7953"
            ],
            [
             0.7777777777777778,
             "#fb9f3a"
            ],
            [
             0.8888888888888888,
             "#fdca26"
            ],
            [
             1,
             "#f0f921"
            ]
           ],
           "sequentialminus": [
            [
             0,
             "#0d0887"
            ],
            [
             0.1111111111111111,
             "#46039f"
            ],
            [
             0.2222222222222222,
             "#7201a8"
            ],
            [
             0.3333333333333333,
             "#9c179e"
            ],
            [
             0.4444444444444444,
             "#bd3786"
            ],
            [
             0.5555555555555556,
             "#d8576b"
            ],
            [
             0.6666666666666666,
             "#ed7953"
            ],
            [
             0.7777777777777778,
             "#fb9f3a"
            ],
            [
             0.8888888888888888,
             "#fdca26"
            ],
            [
             1,
             "#f0f921"
            ]
           ]
          },
          "colorway": [
           "#636efa",
           "#EF553B",
           "#00cc96",
           "#ab63fa",
           "#FFA15A",
           "#19d3f3",
           "#FF6692",
           "#B6E880",
           "#FF97FF",
           "#FECB52"
          ],
          "font": {
           "color": "#2a3f5f"
          },
          "geo": {
           "bgcolor": "white",
           "lakecolor": "white",
           "landcolor": "#E5ECF6",
           "showlakes": true,
           "showland": true,
           "subunitcolor": "white"
          },
          "hoverlabel": {
           "align": "left"
          },
          "hovermode": "closest",
          "mapbox": {
           "style": "light"
          },
          "paper_bgcolor": "white",
          "plot_bgcolor": "#E5ECF6",
          "polar": {
           "angularaxis": {
            "gridcolor": "white",
            "linecolor": "white",
            "ticks": ""
           },
           "bgcolor": "#E5ECF6",
           "radialaxis": {
            "gridcolor": "white",
            "linecolor": "white",
            "ticks": ""
           }
          },
          "scene": {
           "xaxis": {
            "backgroundcolor": "#E5ECF6",
            "gridcolor": "white",
            "gridwidth": 2,
            "linecolor": "white",
            "showbackground": true,
            "ticks": "",
            "zerolinecolor": "white"
           },
           "yaxis": {
            "backgroundcolor": "#E5ECF6",
            "gridcolor": "white",
            "gridwidth": 2,
            "linecolor": "white",
            "showbackground": true,
            "ticks": "",
            "zerolinecolor": "white"
           },
           "zaxis": {
            "backgroundcolor": "#E5ECF6",
            "gridcolor": "white",
            "gridwidth": 2,
            "linecolor": "white",
            "showbackground": true,
            "ticks": "",
            "zerolinecolor": "white"
           }
          },
          "shapedefaults": {
           "line": {
            "color": "#2a3f5f"
           }
          },
          "ternary": {
           "aaxis": {
            "gridcolor": "white",
            "linecolor": "white",
            "ticks": ""
           },
           "baxis": {
            "gridcolor": "white",
            "linecolor": "white",
            "ticks": ""
           },
           "bgcolor": "#E5ECF6",
           "caxis": {
            "gridcolor": "white",
            "linecolor": "white",
            "ticks": ""
           }
          },
          "title": {
           "x": 0.05
          },
          "xaxis": {
           "automargin": true,
           "gridcolor": "white",
           "linecolor": "white",
           "ticks": "",
           "title": {
            "standoff": 15
           },
           "zerolinecolor": "white",
           "zerolinewidth": 2
          },
          "yaxis": {
           "automargin": true,
           "gridcolor": "white",
           "linecolor": "white",
           "ticks": "",
           "title": {
            "standoff": 15
           },
           "zerolinecolor": "white",
           "zerolinewidth": 2
          }
         }
        },
        "title": {
         "text": "Top 10 soled book"
        },
        "xaxis": {
         "anchor": "y",
         "domain": [
          0,
          1
         ],
         "title": {
          "text": "sum of units sold"
         }
        },
        "yaxis": {
         "anchor": "x",
         "domain": [
          0,
          1
         ],
         "title": {
          "text": "Book Name"
         }
        }
       }
      },
      "image/png": "[encoded data removed]"
     },
     "metadata": {},
     "output_type": "display_data"
    }
   ],
   "source": [
    "px.histogram(data_frame=top_10_sales, y='Book Name', x='units sold', title='Top 10 soled book' , color='Author' )\n"
   ]
  },
  {
   "cell_type": "code",
   "execution_count": 23,
   "id": "1cb4404f",
   "metadata": {},
   "outputs": [
    {
     "data": {
      "application/vnd.plotly.v1+json": {
       "config": {
        "plotlyServerURL": "https://plot.ly"
       },
       "data": [
        {
         "domain": {
          "x": [
           0,
           1
          ],
          "y": [
           0,
           1
          ]
         },
         "hole": 0.3,
         "hovertemplate": "Book Name=%{label}<br>units sold=%{value}<extra></extra>",
         "labels": [
          "Beowulf",
          "Batman: Year One",
          "Go Set a Watchman",
          "When You Are Engulfed in Flames",
          "Daughter of Smoke & Bone",
          "Red Queen",
          "The Power of Habit",
          "Midnight in the Garden of Good and Evil",
          "Hopeless",
          "A Little Princess"
         ],
         "legendgroup": "",
         "name": "",
         "showlegend": true,
         "textinfo": "value+percent",
         "type": "pie",
         "values": {
          "bdata": "WBtqGHwVfBWOEqAPXQ/YDpUOUg4=",
          "dtype": "i2"
         }
        }
       ],
       "layout": {
        "height": 600,
        "legend": {
         "tracegroupgap": 0
        },
        "template": {
         "data": {
          "bar": [
           {
            "error_x": {
             "color": "#2a3f5f"
            },
            "error_y": {
             "color": "#2a3f5f"
            },
            "marker": {
             "line": {
              "color": "#E5ECF6",
              "width": 0.5
             },
             "pattern": {
              "fillmode": "overlay",
              "size": 10,
              "solidity": 0.2
             }
            },
            "type": "bar"
           }
          ],
          "barpolar": [
           {
            "marker": {
             "line": {
              "color": "#E5ECF6",
              "width": 0.5
             },
             "pattern": {
              "fillmode": "overlay",
              "size": 10,
              "solidity": 0.2
             }
            },
            "type": "barpolar"
           }
          ],
          "carpet": [
           {
            "aaxis": {
             "endlinecolor": "#2a3f5f",
             "gridcolor": "white",
             "linecolor": "white",
             "minorgridcolor": "white",
             "startlinecolor": "#2a3f5f"
            },
            "baxis": {
             "endlinecolor": "#2a3f5f",
             "gridcolor": "white",
             "linecolor": "white",
             "minorgridcolor": "white",
             "startlinecolor": "#2a3f5f"
            },
            "type": "carpet"
           }
          ],
          "choropleth": [
           {
            "colorbar": {
             "outlinewidth": 0,
             "ticks": ""
            },
            "type": "choropleth"
           }
          ],
          "contour": [
           {
            "colorbar": {
             "outlinewidth": 0,
             "ticks": ""
            },
            "colorscale": [
             [
              0,
              "#0d0887"
             ],
             [
              0.1111111111111111,
              "#46039f"
             ],
             [
              0.2222222222222222,
              "#7201a8"
             ],
             [
              0.3333333333333333,
              "#9c179e"
             ],
             [
              0.4444444444444444,
              "#bd3786"
             ],
             [
              0.5555555555555556,
              "#d8576b"
             ],
             [
              0.6666666666666666,
              "#ed7953"
             ],
             [
              0.7777777777777778,
              "#fb9f3a"
             ],
             [
              0.8888888888888888,
              "#fdca26"
             ],
             [
              1,
              "#f0f921"
             ]
            ],
            "type": "contour"
           }
          ],
          "contourcarpet": [
           {
            "colorbar": {
             "outlinewidth": 0,
             "ticks": ""
            },
            "type": "contourcarpet"
           }
          ],
          "heatmap": [
           {
            "colorbar": {
             "outlinewidth": 0,
             "ticks": ""
            },
            "colorscale": [
             [
              0,
              "#0d0887"
             ],
             [
              0.1111111111111111,
              "#46039f"
             ],
             [
              0.2222222222222222,
              "#7201a8"
             ],
             [
              0.3333333333333333,
              "#9c179e"
             ],
             [
              0.4444444444444444,
              "#bd3786"
             ],
             [
              0.5555555555555556,
              "#d8576b"
             ],
             [
              0.6666666666666666,
              "#ed7953"
             ],
             [
              0.7777777777777778,
              "#fb9f3a"
             ],
             [
              0.8888888888888888,
              "#fdca26"
             ],
             [
              1,
              "#f0f921"
             ]
            ],
            "type": "heatmap"
           }
          ],
          "histogram": [
           {
            "marker": {
             "pattern": {
              "fillmode": "overlay",
              "size": 10,
              "solidity": 0.2
             }
            },
            "type": "histogram"
           }
          ],
          "histogram2d": [
           {
            "colorbar": {
             "outlinewidth": 0,
             "ticks": ""
            },
            "colorscale": [
             [
              0,
              "#0d0887"
             ],
             [
              0.1111111111111111,
              "#46039f"
             ],
             [
              0.2222222222222222,
              "#7201a8"
             ],
             [
              0.3333333333333333,
              "#9c179e"
             ],
             [
              0.4444444444444444,
              "#bd3786"
             ],
             [
              0.5555555555555556,
              "#d8576b"
             ],
             [
              0.6666666666666666,
              "#ed7953"
             ],
             [
              0.7777777777777778,
              "#fb9f3a"
             ],
             [
              0.8888888888888888,
              "#fdca26"
             ],
             [
              1,
              "#f0f921"
             ]
            ],
            "type": "histogram2d"
           }
          ],
          "histogram2dcontour": [
           {
            "colorbar": {
             "outlinewidth": 0,
             "ticks": ""
            },
            "colorscale": [
             [
              0,
              "#0d0887"
             ],
             [
              0.1111111111111111,
              "#46039f"
             ],
             [
              0.2222222222222222,
              "#7201a8"
             ],
             [
              0.3333333333333333,
              "#9c179e"
             ],
             [
              0.4444444444444444,
              "#bd3786"
             ],
             [
              0.5555555555555556,
              "#d8576b"
             ],
             [
              0.6666666666666666,
              "#ed7953"
             ],
             [
              0.7777777777777778,
              "#fb9f3a"
             ],
             [
              0.8888888888888888,
              "#fdca26"
             ],
             [
              1,
              "#f0f921"
             ]
            ],
            "type": "histogram2dcontour"
           }
          ],
          "mesh3d": [
           {
            "colorbar": {
             "outlinewidth": 0,
             "ticks": ""
            },
            "type": "mesh3d"
           }
          ],
          "parcoords": [
           {
            "line": {
             "colorbar": {
              "outlinewidth": 0,
              "ticks": ""
             }
            },
            "type": "parcoords"
           }
          ],
          "pie": [
           {
            "automargin": true,
            "type": "pie"
           }
          ],
          "scatter": [
           {
            "fillpattern": {
             "fillmode": "overlay",
             "size": 10,
             "solidity": 0.2
            },
            "type": "scatter"
           }
          ],
          "scatter3d": [
           {
            "line": {
             "colorbar": {
              "outlinewidth": 0,
              "ticks": ""
             }
            },
            "marker": {
             "colorbar": {
              "outlinewidth": 0,
              "ticks": ""
             }
            },
            "type": "scatter3d"
           }
          ],
          "scattercarpet": [
           {
            "marker": {
             "colorbar": {
              "outlinewidth": 0,
              "ticks": ""
             }
            },
            "type": "scattercarpet"
           }
          ],
          "scattergeo": [
           {
            "marker": {
             "colorbar": {
              "outlinewidth": 0,
              "ticks": ""
             }
            },
            "type": "scattergeo"
           }
          ],
          "scattergl": [
           {
            "marker": {
             "colorbar": {
              "outlinewidth": 0,
              "ticks": ""
             }
            },
            "type": "scattergl"
           }
          ],
          "scattermap": [
           {
            "marker": {
             "colorbar": {
              "outlinewidth": 0,
              "ticks": ""
             }
            },
            "type": "scattermap"
           }
          ],
          "scattermapbox": [
           {
            "marker": {
             "colorbar": {
              "outlinewidth": 0,
              "ticks": ""
             }
            },
            "type": "scattermapbox"
           }
          ],
          "scatterpolar": [
           {
            "marker": {
             "colorbar": {
              "outlinewidth": 0,
              "ticks": ""
             }
            },
            "type": "scatterpolar"
           }
          ],
          "scatterpolargl": [
           {
            "marker": {
             "colorbar": {
              "outlinewidth": 0,
              "ticks": ""
             }
            },
            "type": "scatterpolargl"
           }
          ],
          "scatterternary": [
           {
            "marker": {
             "colorbar": {
              "outlinewidth": 0,
              "ticks": ""
             }
            },
            "type": "scatterternary"
           }
          ],
          "surface": [
           {
            "colorbar": {
             "outlinewidth": 0,
             "ticks": ""
            },
            "colorscale": [
             [
              0,
              "#0d0887"
             ],
             [
              0.1111111111111111,
              "#46039f"
             ],
             [
              0.2222222222222222,
              "#7201a8"
             ],
             [
              0.3333333333333333,
              "#9c179e"
             ],
             [
              0.4444444444444444,
              "#bd3786"
             ],
             [
              0.5555555555555556,
              "#d8576b"
             ],
             [
              0.6666666666666666,
              "#ed7953"
             ],
             [
              0.7777777777777778,
              "#fb9f3a"
             ],
             [
              0.8888888888888888,
              "#fdca26"
             ],
             [
              1,
              "#f0f921"
             ]
            ],
            "type": "surface"
           }
          ],
          "table": [
           {
            "cells": {
             "fill": {
              "color": "#EBF0F8"
             },
             "line": {
              "color": "white"
             }
            },
            "header": {
             "fill": {
              "color": "#C8D4E3"
             },
             "line": {
              "color": "white"
             }
            },
            "type": "table"
           }
          ]
         },
         "layout": {
          "annotationdefaults": {
           "arrowcolor": "#2a3f5f",
           "arrowhead": 0,
           "arrowwidth": 1
          },
          "autotypenumbers": "strict",
          "coloraxis": {
           "colorbar": {
            "outlinewidth": 0,
            "ticks": ""
           }
          },
          "colorscale": {
           "diverging": [
            [
             0,
             "#8e0152"
            ],
            [
             0.1,
             "#c51b7d"
            ],
            [
             0.2,
             "#de77ae"
            ],
            [
             0.3,
             "#f1b6da"
            ],
            [
             0.4,
             "#fde0ef"
            ],
            [
             0.5,
             "#f7f7f7"
            ],
            [
             0.6,
             "#e6f5d0"
            ],
            [
             0.7,
             "#b8e186"
            ],
            [
             0.8,
             "#7fbc41"
            ],
            [
             0.9,
             "#4d9221"
            ],
            [
             1,
             "#276419"
            ]
           ],
           "sequential": [
            [
             0,
             "#0d0887"
            ],
            [
             0.1111111111111111,
             "#46039f"
            ],
            [
             0.2222222222222222,
             "#7201a8"
            ],
            [
             0.3333333333333333,
             "#9c179e"
            ],
            [
             0.4444444444444444,
             "#bd3786"
            ],
            [
             0.5555555555555556,
             "#d8576b"
            ],
            [
             0.6666666666666666,
             "#ed7953"
            ],
            [
             0.7777777777777778,
             "#fb9f3a"
            ],
            [
             0.8888888888888888,
             "#fdca26"
            ],
            [
             1,
             "#f0f921"
            ]
           ],
           "sequentialminus": [
            [
             0,
             "#0d0887"
            ],
            [
             0.1111111111111111,
             "#46039f"
            ],
            [
             0.2222222222222222,
             "#7201a8"
            ],
            [
             0.3333333333333333,
             "#9c179e"
            ],
            [
             0.4444444444444444,
             "#bd3786"
            ],
            [
             0.5555555555555556,
             "#d8576b"
            ],
            [
             0.6666666666666666,
             "#ed7953"
            ],
            [
             0.7777777777777778,
             "#fb9f3a"
            ],
            [
             0.8888888888888888,
             "#fdca26"
            ],
            [
             1,
             "#f0f921"
            ]
           ]
          },
          "colorway": [
           "#636efa",
           "#EF553B",
           "#00cc96",
           "#ab63fa",
           "#FFA15A",
           "#19d3f3",
           "#FF6692",
           "#B6E880",
           "#FF97FF",
           "#FECB52"
          ],
          "font": {
           "color": "#2a3f5f"
          },
          "geo": {
           "bgcolor": "white",
           "lakecolor": "white",
           "landcolor": "#E5ECF6",
           "showlakes": true,
           "showland": true,
           "subunitcolor": "white"
          },
          "hoverlabel": {
           "align": "left"
          },
          "hovermode": "closest",
          "mapbox": {
           "style": "light"
          },
          "paper_bgcolor": "white",
          "plot_bgcolor": "#E5ECF6",
          "polar": {
           "angularaxis": {
            "gridcolor": "white",
            "linecolor": "white",
            "ticks": ""
           },
           "bgcolor": "#E5ECF6",
           "radialaxis": {
            "gridcolor": "white",
            "linecolor": "white",
            "ticks": ""
           }
          },
          "scene": {
           "xaxis": {
            "backgroundcolor": "#E5ECF6",
            "gridcolor": "white",
            "gridwidth": 2,
            "linecolor": "white",
            "showbackground": true,
            "ticks": "",
            "zerolinecolor": "white"
           },
           "yaxis": {
            "backgroundcolor": "#E5ECF6",
            "gridcolor": "white",
            "gridwidth": 2,
            "linecolor": "white",
            "showbackground": true,
            "ticks": "",
            "zerolinecolor": "white"
           },
           "zaxis": {
            "backgroundcolor": "#E5ECF6",
            "gridcolor": "white",
            "gridwidth": 2,
            "linecolor": "white",
            "showbackground": true,
            "ticks": "",
            "zerolinecolor": "white"
           }
          },
          "shapedefaults": {
           "line": {
            "color": "#2a3f5f"
           }
          },
          "ternary": {
           "aaxis": {
            "gridcolor": "white",
            "linecolor": "white",
            "ticks": ""
           },
           "baxis": {
            "gridcolor": "white",
            "linecolor": "white",
            "ticks": ""
           },
           "bgcolor": "#E5ECF6",
           "caxis": {
            "gridcolor": "white",
            "linecolor": "white",
            "ticks": ""
           }
          },
          "title": {
           "x": 0.05
          },
          "xaxis": {
           "automargin": true,
           "gridcolor": "white",
           "linecolor": "white",
           "ticks": "",
           "title": {
            "standoff": 15
           },
           "zerolinecolor": "white",
           "zerolinewidth": 2
          },
          "yaxis": {
           "automargin": true,
           "gridcolor": "white",
           "linecolor": "white",
           "ticks": "",
           "title": {
            "standoff": 15
           },
           "zerolinecolor": "white",
           "zerolinewidth": 2
          }
         }
        },
        "title": {
         "text": "percent of solde books"
        },
        "width": 700
       }
      },
      "image/png": "[encoded data removed]"
     },
     "metadata": {},
     "output_type": "display_data"
    }
   ],
   "source": [
    "fig = px.pie(data_frame=top_10_sales, names='Book Name', values='units sold', hole=0.3 ,title='percent of solde books')\n",
    "fig.update_traces(textinfo='value+percent')\n",
    "fig.update_layout(width=700, height=600)"
   ]
  },
  {
   "cell_type": "code",
   "execution_count": 24,
   "id": "82eba4e5-8c85-48b6-9c13-3a84673eadcf",
   "metadata": {},
   "outputs": [
    {
     "data": {
      "text/html": [
       "<div>\n",
       "<style scoped>\n",
       "    .dataframe tbody tr th:only-of-type {\n",
       "        vertical-align: middle;\n",
       "    }\n",
       "\n",
       "    .dataframe tbody tr th {\n",
       "        vertical-align: top;\n",
       "    }\n",
       "\n",
       "    .dataframe thead th {\n",
       "        text-align: right;\n",
       "    }\n",
       "</style>\n",
       "<table border=\"1\" class=\"dataframe\">\n",
       "  <thead>\n",
       "    <tr style=\"text-align: right;\">\n",
       "      <th></th>\n",
       "      <th>Publishing Year</th>\n",
       "      <th>Book Name</th>\n",
       "      <th>Author</th>\n",
       "      <th>language_code</th>\n",
       "      <th>Author_Rating</th>\n",
       "      <th>Book_average_rating</th>\n",
       "      <th>Book_ratings_count</th>\n",
       "      <th>genre</th>\n",
       "      <th>gross sales</th>\n",
       "      <th>publisher revenue</th>\n",
       "      <th>sale price</th>\n",
       "      <th>sales rank</th>\n",
       "      <th>Publisher</th>\n",
       "      <th>units sold</th>\n",
       "    </tr>\n",
       "  </thead>\n",
       "  <tbody>\n",
       "    <tr>\n",
       "      <th>0</th>\n",
       "      <td>1975.0</td>\n",
       "      <td>Beowulf</td>\n",
       "      <td>Unknown, Seamus Heaney</td>\n",
       "      <td>en-US</td>\n",
       "      <td>Novice</td>\n",
       "      <td>3.42</td>\n",
       "      <td>155903</td>\n",
       "      <td>genre fiction</td>\n",
       "      <td>34160.0</td>\n",
       "      <td>20496.0</td>\n",
       "      <td>4.88</td>\n",
       "      <td>1</td>\n",
       "      <td>HarperCollins Publishers</td>\n",
       "      <td>7000</td>\n",
       "    </tr>\n",
       "    <tr>\n",
       "      <th>1</th>\n",
       "      <td>1987.0</td>\n",
       "      <td>Batman: Year One</td>\n",
       "      <td>Frank Miller, David Mazzucchelli, Richmond Lew...</td>\n",
       "      <td>eng</td>\n",
       "      <td>Intermediate</td>\n",
       "      <td>4.23</td>\n",
       "      <td>145267</td>\n",
       "      <td>genre fiction</td>\n",
       "      <td>12437.5</td>\n",
       "      <td>7462.5</td>\n",
       "      <td>1.99</td>\n",
       "      <td>2</td>\n",
       "      <td>HarperCollins Publishers</td>\n",
       "      <td>6250</td>\n",
       "    </tr>\n",
       "    <tr>\n",
       "      <th>2</th>\n",
       "      <td>2015.0</td>\n",
       "      <td>Go Set a Watchman</td>\n",
       "      <td>Harper Lee</td>\n",
       "      <td>eng</td>\n",
       "      <td>Novice</td>\n",
       "      <td>3.31</td>\n",
       "      <td>138669</td>\n",
       "      <td>genre fiction</td>\n",
       "      <td>47795.0</td>\n",
       "      <td>28677.0</td>\n",
       "      <td>8.69</td>\n",
       "      <td>3</td>\n",
       "      <td>Amazon Digital Services,  Inc.</td>\n",
       "      <td>5500</td>\n",
       "    </tr>\n",
       "    <tr>\n",
       "      <th>3</th>\n",
       "      <td>2008.0</td>\n",
       "      <td>When You Are Engulfed in Flames</td>\n",
       "      <td>David Sedaris</td>\n",
       "      <td>en-US</td>\n",
       "      <td>Intermediate</td>\n",
       "      <td>4.04</td>\n",
       "      <td>150898</td>\n",
       "      <td>fiction</td>\n",
       "      <td>41250.0</td>\n",
       "      <td>24750.0</td>\n",
       "      <td>7.50</td>\n",
       "      <td>3</td>\n",
       "      <td>Hachette Book Group</td>\n",
       "      <td>5500</td>\n",
       "    </tr>\n",
       "    <tr>\n",
       "      <th>4</th>\n",
       "      <td>2011.0</td>\n",
       "      <td>Daughter of Smoke &amp; Bone</td>\n",
       "      <td>Laini Taylor</td>\n",
       "      <td>eng</td>\n",
       "      <td>Intermediate</td>\n",
       "      <td>4.04</td>\n",
       "      <td>198283</td>\n",
       "      <td>genre fiction</td>\n",
       "      <td>37952.5</td>\n",
       "      <td>22771.5</td>\n",
       "      <td>7.99</td>\n",
       "      <td>4</td>\n",
       "      <td>Penguin Group (USA) LLC</td>\n",
       "      <td>4750</td>\n",
       "    </tr>\n",
       "  </tbody>\n",
       "</table>\n",
       "</div>"
      ],
      "text/plain": [
       "   Publishing Year                        Book Name  \\\n",
       "0           1975.0                          Beowulf   \n",
       "1           1987.0                 Batman: Year One   \n",
       "2           2015.0                Go Set a Watchman   \n",
       "3           2008.0  When You Are Engulfed in Flames   \n",
       "4           2011.0         Daughter of Smoke & Bone   \n",
       "\n",
       "                                              Author language_code  \\\n",
       "0                             Unknown, Seamus Heaney         en-US   \n",
       "1  Frank Miller, David Mazzucchelli, Richmond Lew...           eng   \n",
       "2                                         Harper Lee           eng   \n",
       "3                                      David Sedaris         en-US   \n",
       "4                                       Laini Taylor           eng   \n",
       "\n",
       "  Author_Rating  Book_average_rating  Book_ratings_count          genre  \\\n",
       "0        Novice                 3.42              155903  genre fiction   \n",
       "1  Intermediate                 4.23              145267  genre fiction   \n",
       "2        Novice                 3.31              138669  genre fiction   \n",
       "3  Intermediate                 4.04              150898        fiction   \n",
       "4  Intermediate                 4.04              198283  genre fiction   \n",
       "\n",
       "   gross sales  publisher revenue  sale price  sales rank  \\\n",
       "0      34160.0            20496.0        4.88           1   \n",
       "1      12437.5             7462.5        1.99           2   \n",
       "2      47795.0            28677.0        8.69           3   \n",
       "3      41250.0            24750.0        7.50           3   \n",
       "4      37952.5            22771.5        7.99           4   \n",
       "\n",
       "                       Publisher   units sold  \n",
       "0        HarperCollins Publishers        7000  \n",
       "1        HarperCollins Publishers        6250  \n",
       "2  Amazon Digital Services,  Inc.        5500  \n",
       "3             Hachette Book Group        5500  \n",
       "4         Penguin Group (USA) LLC        4750  "
      ]
     },
     "execution_count": 24,
     "metadata": {},
     "output_type": "execute_result"
    }
   ],
   "source": [
    "df.head()"
   ]
  },
  {
   "cell_type": "code",
   "execution_count": 25,
   "id": "efbd4c12-88e8-4f50-8a7b-e903c1cf279e",
   "metadata": {},
   "outputs": [],
   "source": [
    "df['Publishing Year']=df['Publishing Year'].astype('int')"
   ]
  },
  {
   "cell_type": "code",
   "execution_count": 26,
   "id": "edb1b02b-0122-49cf-829f-e2740ae97ab3",
   "metadata": {},
   "outputs": [
    {
     "name": "stdout",
     "output_type": "stream",
     "text": [
      "<class 'pandas.core.frame.DataFrame'>\n",
      "Index: 988 entries, 0 to 1069\n",
      "Data columns (total 14 columns):\n",
      " #   Column               Non-Null Count  Dtype  \n",
      "---  ------               --------------  -----  \n",
      " 0   Publishing Year      988 non-null    int64  \n",
      " 1   Book Name            988 non-null    object \n",
      " 2   Author               988 non-null    object \n",
      " 3   language_code        988 non-null    object \n",
      " 4   Author_Rating        988 non-null    object \n",
      " 5   Book_average_rating  988 non-null    float64\n",
      " 6   Book_ratings_count   988 non-null    int64  \n",
      " 7   genre                988 non-null    object \n",
      " 8   gross sales          988 non-null    float64\n",
      " 9   publisher revenue    988 non-null    float64\n",
      " 10  sale price           988 non-null    float64\n",
      " 11  sales rank           988 non-null    int64  \n",
      " 12  Publisher            988 non-null    object \n",
      " 13  units sold           988 non-null    int64  \n",
      "dtypes: float64(4), int64(4), object(6)\n",
      "memory usage: 115.8+ KB\n"
     ]
    }
   ],
   "source": [
    "df.info()"
   ]
  },
  {
   "cell_type": "code",
   "execution_count": 33,
   "id": "ab0a3071-1834-44fb-bc1f-e1686347149c",
   "metadata": {},
   "outputs": [
    {
     "data": {
      "image/png": "[encoded data removed]",
      "text/plain": [
       "<Figure size 1500x1000 with 1 Axes>"
      ]
     },
     "metadata": {},
     "output_type": "display_data"
    }
   ],
   "source": [
    "plt.figure(figsize=(15,10))\n",
    "sns.lineplot(data=df , x='Publishing Year', y='gross sales')\n",
    "\n",
    "plt.title('Groth sales per years')\n",
    "\n",
    "plt.show()"
   ]
  },
  {
   "cell_type": "code",
   "execution_count": null,
   "id": "774037af-0355-488c-b569-59885783d849",
   "metadata": {},
   "outputs": [],
   "source": []
  },
  {
   "cell_type": "code",
   "execution_count": null,
   "id": "be46f22a-efd6-40af-85a6-2c9c090f7831",
   "metadata": {},
   "outputs": [],
   "source": []
  }
 ],
 "metadata": {
  "kernelspec": {
   "display_name": "Python 3 (ipykernel)",
   "language": "python",
   "name": "python3"
  },
  "language_info": {
   "codemirror_mode": {
    "name": "ipython",
    "version": 3
   },
   "file_extension": ".py",
   "mimetype": "text/x-python",
   "name": "python",
   "nbconvert_exporter": "python",
   "pygments_lexer": "ipython3",
   "version": "3.12.3"
  }
 },
 "nbformat": 4,
 "nbformat_minor": 5
}
